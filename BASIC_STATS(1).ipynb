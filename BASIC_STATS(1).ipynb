{
  "cells": [
    {
      "cell_type": "code",
      "execution_count": null,
      "id": "fb1dffd6",
      "metadata": {
        "id": "fb1dffd6"
      },
      "outputs": [],
      "source": [
        "import pandas as pd"
      ]
    },
    {
      "cell_type": "code",
      "execution_count": null,
      "id": "6ab49e1b",
      "metadata": {
        "id": "6ab49e1b"
      },
      "outputs": [],
      "source": [
        "df=pd.read_csv(\"Q7.csv\")"
      ]
    },
    {
      "cell_type": "code",
      "execution_count": null,
      "id": "3337ba04",
      "metadata": {
        "id": "3337ba04",
        "outputId": "2af5444f-dbe7-4ab5-dcc6-0804756a6c9d"
      },
      "outputs": [
        {
          "data": {
            "text/html": [
              "<div>\n",
              "<style scoped>\n",
              "    .dataframe tbody tr th:only-of-type {\n",
              "        vertical-align: middle;\n",
              "    }\n",
              "\n",
              "    .dataframe tbody tr th {\n",
              "        vertical-align: top;\n",
              "    }\n",
              "\n",
              "    .dataframe thead th {\n",
              "        text-align: right;\n",
              "    }\n",
              "</style>\n",
              "<table border=\"1\" class=\"dataframe\">\n",
              "  <thead>\n",
              "    <tr style=\"text-align: right;\">\n",
              "      <th></th>\n",
              "      <th>Unnamed: 0</th>\n",
              "      <th>Points</th>\n",
              "      <th>Score</th>\n",
              "      <th>Weigh</th>\n",
              "    </tr>\n",
              "  </thead>\n",
              "  <tbody>\n",
              "    <tr>\n",
              "      <th>0</th>\n",
              "      <td>Mazda RX4</td>\n",
              "      <td>3.90</td>\n",
              "      <td>2.620</td>\n",
              "      <td>16.46</td>\n",
              "    </tr>\n",
              "    <tr>\n",
              "      <th>1</th>\n",
              "      <td>Mazda RX4 Wag</td>\n",
              "      <td>3.90</td>\n",
              "      <td>2.875</td>\n",
              "      <td>17.02</td>\n",
              "    </tr>\n",
              "    <tr>\n",
              "      <th>2</th>\n",
              "      <td>Datsun 710</td>\n",
              "      <td>3.85</td>\n",
              "      <td>2.320</td>\n",
              "      <td>18.61</td>\n",
              "    </tr>\n",
              "    <tr>\n",
              "      <th>3</th>\n",
              "      <td>Hornet 4 Drive</td>\n",
              "      <td>3.08</td>\n",
              "      <td>3.215</td>\n",
              "      <td>19.44</td>\n",
              "    </tr>\n",
              "    <tr>\n",
              "      <th>4</th>\n",
              "      <td>Hornet Sportabout</td>\n",
              "      <td>3.15</td>\n",
              "      <td>3.440</td>\n",
              "      <td>17.02</td>\n",
              "    </tr>\n",
              "    <tr>\n",
              "      <th>5</th>\n",
              "      <td>Valiant</td>\n",
              "      <td>2.76</td>\n",
              "      <td>3.460</td>\n",
              "      <td>20.22</td>\n",
              "    </tr>\n",
              "    <tr>\n",
              "      <th>6</th>\n",
              "      <td>Duster 360</td>\n",
              "      <td>3.21</td>\n",
              "      <td>3.570</td>\n",
              "      <td>15.84</td>\n",
              "    </tr>\n",
              "  </tbody>\n",
              "</table>\n",
              "</div>"
            ],
            "text/plain": [
              "          Unnamed: 0  Points  Score  Weigh\n",
              "0          Mazda RX4    3.90  2.620  16.46\n",
              "1      Mazda RX4 Wag    3.90  2.875  17.02\n",
              "2         Datsun 710    3.85  2.320  18.61\n",
              "3     Hornet 4 Drive    3.08  3.215  19.44\n",
              "4  Hornet Sportabout    3.15  3.440  17.02\n",
              "5            Valiant    2.76  3.460  20.22\n",
              "6         Duster 360    3.21  3.570  15.84"
            ]
          },
          "execution_count": 4,
          "metadata": {},
          "output_type": "execute_result"
        }
      ],
      "source": [
        "df.head(7)"
      ]
    },
    {
      "cell_type": "code",
      "execution_count": null,
      "id": "d7eb4f25",
      "metadata": {
        "id": "d7eb4f25",
        "outputId": "01ddffd7-5263-4a99-8a19-8873ff3b8d82"
      },
      "outputs": [
        {
          "data": {
            "text/html": [
              "<div>\n",
              "<style scoped>\n",
              "    .dataframe tbody tr th:only-of-type {\n",
              "        vertical-align: middle;\n",
              "    }\n",
              "\n",
              "    .dataframe tbody tr th {\n",
              "        vertical-align: top;\n",
              "    }\n",
              "\n",
              "    .dataframe thead th {\n",
              "        text-align: right;\n",
              "    }\n",
              "</style>\n",
              "<table border=\"1\" class=\"dataframe\">\n",
              "  <thead>\n",
              "    <tr style=\"text-align: right;\">\n",
              "      <th></th>\n",
              "      <th>Unnamed: 0</th>\n",
              "      <th>Points</th>\n",
              "      <th>Score</th>\n",
              "      <th>Weigh</th>\n",
              "    </tr>\n",
              "  </thead>\n",
              "  <tbody>\n",
              "    <tr>\n",
              "      <th>30</th>\n",
              "      <td>Maserati Bora</td>\n",
              "      <td>3.54</td>\n",
              "      <td>3.57</td>\n",
              "      <td>14.6</td>\n",
              "    </tr>\n",
              "    <tr>\n",
              "      <th>31</th>\n",
              "      <td>Volvo 142E</td>\n",
              "      <td>4.11</td>\n",
              "      <td>2.78</td>\n",
              "      <td>18.6</td>\n",
              "    </tr>\n",
              "  </tbody>\n",
              "</table>\n",
              "</div>"
            ],
            "text/plain": [
              "       Unnamed: 0  Points  Score  Weigh\n",
              "30  Maserati Bora    3.54   3.57   14.6\n",
              "31     Volvo 142E    4.11   2.78   18.6"
            ]
          },
          "execution_count": 5,
          "metadata": {},
          "output_type": "execute_result"
        }
      ],
      "source": [
        "df.tail(2)"
      ]
    },
    {
      "cell_type": "code",
      "execution_count": null,
      "id": "0bf329ae",
      "metadata": {
        "id": "0bf329ae",
        "outputId": "ca09c1f0-ece6-49ea-edf5-bdd100803a69"
      },
      "outputs": [
        {
          "data": {
            "text/plain": [
              "(32, 4)"
            ]
          },
          "execution_count": 6,
          "metadata": {},
          "output_type": "execute_result"
        }
      ],
      "source": [
        "df.shape"
      ]
    },
    {
      "cell_type": "code",
      "execution_count": null,
      "id": "5e135069",
      "metadata": {
        "id": "5e135069",
        "outputId": "56604373-ca68-4da6-8be2-2e5424bb8c50"
      },
      "outputs": [
        {
          "data": {
            "text/plain": [
              "Index(['Unnamed: 0', 'Points', 'Score', 'Weigh'], dtype='object')"
            ]
          },
          "execution_count": 7,
          "metadata": {},
          "output_type": "execute_result"
        }
      ],
      "source": [
        "df.columns"
      ]
    },
    {
      "cell_type": "code",
      "execution_count": null,
      "id": "e698e268",
      "metadata": {
        "id": "e698e268",
        "outputId": "6153c421-ae3a-458d-972f-1bf4c37ae0f7"
      },
      "outputs": [
        {
          "name": "stdout",
          "output_type": "stream",
          "text": [
            "<class 'pandas.core.frame.DataFrame'>\n",
            "RangeIndex: 32 entries, 0 to 31\n",
            "Data columns (total 4 columns):\n",
            " #   Column      Non-Null Count  Dtype  \n",
            "---  ------      --------------  -----  \n",
            " 0   Unnamed: 0  32 non-null     object \n",
            " 1   Points      32 non-null     float64\n",
            " 2   Score       32 non-null     float64\n",
            " 3   Weigh       32 non-null     float64\n",
            "dtypes: float64(3), object(1)\n",
            "memory usage: 960.0+ bytes\n"
          ]
        }
      ],
      "source": [
        "df.info()"
      ]
    },
    {
      "cell_type": "code",
      "execution_count": null,
      "id": "372981de",
      "metadata": {
        "id": "372981de",
        "outputId": "54e2c908-7e34-47c5-e4e5-c36d056f56cb"
      },
      "outputs": [
        {
          "data": {
            "text/html": [
              "<div>\n",
              "<style scoped>\n",
              "    .dataframe tbody tr th:only-of-type {\n",
              "        vertical-align: middle;\n",
              "    }\n",
              "\n",
              "    .dataframe tbody tr th {\n",
              "        vertical-align: top;\n",
              "    }\n",
              "\n",
              "    .dataframe thead th {\n",
              "        text-align: right;\n",
              "    }\n",
              "</style>\n",
              "<table border=\"1\" class=\"dataframe\">\n",
              "  <thead>\n",
              "    <tr style=\"text-align: right;\">\n",
              "      <th></th>\n",
              "      <th>Points</th>\n",
              "      <th>Score</th>\n",
              "      <th>Weigh</th>\n",
              "    </tr>\n",
              "  </thead>\n",
              "  <tbody>\n",
              "    <tr>\n",
              "      <th>count</th>\n",
              "      <td>32.000000</td>\n",
              "      <td>32.000000</td>\n",
              "      <td>32.000000</td>\n",
              "    </tr>\n",
              "    <tr>\n",
              "      <th>mean</th>\n",
              "      <td>3.596563</td>\n",
              "      <td>3.217250</td>\n",
              "      <td>17.848750</td>\n",
              "    </tr>\n",
              "    <tr>\n",
              "      <th>std</th>\n",
              "      <td>0.534679</td>\n",
              "      <td>0.978457</td>\n",
              "      <td>1.786943</td>\n",
              "    </tr>\n",
              "    <tr>\n",
              "      <th>min</th>\n",
              "      <td>2.760000</td>\n",
              "      <td>1.513000</td>\n",
              "      <td>14.500000</td>\n",
              "    </tr>\n",
              "    <tr>\n",
              "      <th>25%</th>\n",
              "      <td>3.080000</td>\n",
              "      <td>2.581250</td>\n",
              "      <td>16.892500</td>\n",
              "    </tr>\n",
              "    <tr>\n",
              "      <th>50%</th>\n",
              "      <td>3.695000</td>\n",
              "      <td>3.325000</td>\n",
              "      <td>17.710000</td>\n",
              "    </tr>\n",
              "    <tr>\n",
              "      <th>75%</th>\n",
              "      <td>3.920000</td>\n",
              "      <td>3.610000</td>\n",
              "      <td>18.900000</td>\n",
              "    </tr>\n",
              "    <tr>\n",
              "      <th>max</th>\n",
              "      <td>4.930000</td>\n",
              "      <td>5.424000</td>\n",
              "      <td>22.900000</td>\n",
              "    </tr>\n",
              "  </tbody>\n",
              "</table>\n",
              "</div>"
            ],
            "text/plain": [
              "          Points      Score      Weigh\n",
              "count  32.000000  32.000000  32.000000\n",
              "mean    3.596563   3.217250  17.848750\n",
              "std     0.534679   0.978457   1.786943\n",
              "min     2.760000   1.513000  14.500000\n",
              "25%     3.080000   2.581250  16.892500\n",
              "50%     3.695000   3.325000  17.710000\n",
              "75%     3.920000   3.610000  18.900000\n",
              "max     4.930000   5.424000  22.900000"
            ]
          },
          "execution_count": 9,
          "metadata": {},
          "output_type": "execute_result"
        }
      ],
      "source": [
        "df.describe()"
      ]
    },
    {
      "cell_type": "code",
      "execution_count": null,
      "id": "d0598038",
      "metadata": {
        "id": "d0598038",
        "outputId": "b2659025-4ce7-4758-d0b2-57e35a5872f2"
      },
      "outputs": [
        {
          "data": {
            "text/plain": [
              "Unnamed: 0    Volvo 142E\n",
              "Points              4.93\n",
              "Score              5.424\n",
              "Weigh               22.9\n",
              "dtype: object"
            ]
          },
          "execution_count": 10,
          "metadata": {},
          "output_type": "execute_result"
        }
      ],
      "source": [
        "df.max()"
      ]
    },
    {
      "cell_type": "code",
      "execution_count": null,
      "id": "f318bb2d",
      "metadata": {
        "id": "f318bb2d",
        "outputId": "e72094e3-2256-419b-a09e-4609267d7ac8"
      },
      "outputs": [
        {
          "data": {
            "text/plain": [
              "Unnamed: 0    AMC Javelin\n",
              "Points               2.76\n",
              "Score               1.513\n",
              "Weigh                14.5\n",
              "dtype: object"
            ]
          },
          "execution_count": 11,
          "metadata": {},
          "output_type": "execute_result"
        }
      ],
      "source": [
        "df.min()"
      ]
    },
    {
      "cell_type": "code",
      "execution_count": null,
      "id": "d60fa367",
      "metadata": {
        "id": "d60fa367",
        "outputId": "2cf1dbd4-2274-424b-993e-587a3af8790f"
      },
      "outputs": [
        {
          "data": {
            "text/html": [
              "<div>\n",
              "<style scoped>\n",
              "    .dataframe tbody tr th:only-of-type {\n",
              "        vertical-align: middle;\n",
              "    }\n",
              "\n",
              "    .dataframe tbody tr th {\n",
              "        vertical-align: top;\n",
              "    }\n",
              "\n",
              "    .dataframe thead th {\n",
              "        text-align: right;\n",
              "    }\n",
              "</style>\n",
              "<table border=\"1\" class=\"dataframe\">\n",
              "  <thead>\n",
              "    <tr style=\"text-align: right;\">\n",
              "      <th></th>\n",
              "      <th>Points</th>\n",
              "      <th>Score</th>\n",
              "      <th>Weigh</th>\n",
              "    </tr>\n",
              "  </thead>\n",
              "  <tbody>\n",
              "    <tr>\n",
              "      <th>0.20</th>\n",
              "      <td>3.072</td>\n",
              "      <td>2.349</td>\n",
              "      <td>16.734</td>\n",
              "    </tr>\n",
              "    <tr>\n",
              "      <th>0.40</th>\n",
              "      <td>3.354</td>\n",
              "      <td>3.158</td>\n",
              "      <td>17.340</td>\n",
              "    </tr>\n",
              "    <tr>\n",
              "      <th>0.75</th>\n",
              "      <td>3.920</td>\n",
              "      <td>3.610</td>\n",
              "      <td>18.900</td>\n",
              "    </tr>\n",
              "  </tbody>\n",
              "</table>\n",
              "</div>"
            ],
            "text/plain": [
              "      Points  Score   Weigh\n",
              "0.20   3.072  2.349  16.734\n",
              "0.40   3.354  3.158  17.340\n",
              "0.75   3.920  3.610  18.900"
            ]
          },
          "execution_count": 12,
          "metadata": {},
          "output_type": "execute_result"
        }
      ],
      "source": [
        "df.quantile([0.20,0.40,0.75])"
      ]
    },
    {
      "cell_type": "code",
      "execution_count": null,
      "id": "a8d13303",
      "metadata": {
        "id": "a8d13303",
        "outputId": "2c8208d4-bce2-495f-8b00-79614839c9d4"
      },
      "outputs": [
        {
          "data": {
            "text/html": [
              "<div>\n",
              "<style scoped>\n",
              "    .dataframe tbody tr th:only-of-type {\n",
              "        vertical-align: middle;\n",
              "    }\n",
              "\n",
              "    .dataframe tbody tr th {\n",
              "        vertical-align: top;\n",
              "    }\n",
              "\n",
              "    .dataframe thead th {\n",
              "        text-align: right;\n",
              "    }\n",
              "</style>\n",
              "<table border=\"1\" class=\"dataframe\">\n",
              "  <thead>\n",
              "    <tr style=\"text-align: right;\">\n",
              "      <th></th>\n",
              "      <th>Points</th>\n",
              "      <th>Score</th>\n",
              "    </tr>\n",
              "  </thead>\n",
              "  <tbody>\n",
              "    <tr>\n",
              "      <th>3</th>\n",
              "      <td>3.08</td>\n",
              "      <td>3.215</td>\n",
              "    </tr>\n",
              "    <tr>\n",
              "      <th>5</th>\n",
              "      <td>2.76</td>\n",
              "      <td>3.460</td>\n",
              "    </tr>\n",
              "  </tbody>\n",
              "</table>\n",
              "</div>"
            ],
            "text/plain": [
              "   Points  Score\n",
              "3    3.08  3.215\n",
              "5    2.76  3.460"
            ]
          },
          "execution_count": 13,
          "metadata": {},
          "output_type": "execute_result"
        }
      ],
      "source": [
        "df.loc[[3,5],[\"Points\",\"Score\"]]"
      ]
    },
    {
      "cell_type": "code",
      "execution_count": null,
      "id": "367675a0",
      "metadata": {
        "id": "367675a0",
        "outputId": "2bc75560-bbfa-4b3e-e281-4ac830613d9c"
      },
      "outputs": [
        {
          "data": {
            "text/html": [
              "<div>\n",
              "<style scoped>\n",
              "    .dataframe tbody tr th:only-of-type {\n",
              "        vertical-align: middle;\n",
              "    }\n",
              "\n",
              "    .dataframe tbody tr th {\n",
              "        vertical-align: top;\n",
              "    }\n",
              "\n",
              "    .dataframe thead th {\n",
              "        text-align: right;\n",
              "    }\n",
              "</style>\n",
              "<table border=\"1\" class=\"dataframe\">\n",
              "  <thead>\n",
              "    <tr style=\"text-align: right;\">\n",
              "      <th></th>\n",
              "      <th>Points</th>\n",
              "      <th>Score</th>\n",
              "      <th>Weigh</th>\n",
              "    </tr>\n",
              "  </thead>\n",
              "  <tbody>\n",
              "    <tr>\n",
              "      <th>1</th>\n",
              "      <td>3.90</td>\n",
              "      <td>2.875</td>\n",
              "      <td>17.02</td>\n",
              "    </tr>\n",
              "    <tr>\n",
              "      <th>2</th>\n",
              "      <td>3.85</td>\n",
              "      <td>2.320</td>\n",
              "      <td>18.61</td>\n",
              "    </tr>\n",
              "    <tr>\n",
              "      <th>3</th>\n",
              "      <td>3.08</td>\n",
              "      <td>3.215</td>\n",
              "      <td>19.44</td>\n",
              "    </tr>\n",
              "    <tr>\n",
              "      <th>4</th>\n",
              "      <td>3.15</td>\n",
              "      <td>3.440</td>\n",
              "      <td>17.02</td>\n",
              "    </tr>\n",
              "    <tr>\n",
              "      <th>5</th>\n",
              "      <td>2.76</td>\n",
              "      <td>3.460</td>\n",
              "      <td>20.22</td>\n",
              "    </tr>\n",
              "    <tr>\n",
              "      <th>6</th>\n",
              "      <td>3.21</td>\n",
              "      <td>3.570</td>\n",
              "      <td>15.84</td>\n",
              "    </tr>\n",
              "    <tr>\n",
              "      <th>7</th>\n",
              "      <td>3.69</td>\n",
              "      <td>3.190</td>\n",
              "      <td>20.00</td>\n",
              "    </tr>\n",
              "    <tr>\n",
              "      <th>8</th>\n",
              "      <td>3.92</td>\n",
              "      <td>3.150</td>\n",
              "      <td>22.90</td>\n",
              "    </tr>\n",
              "    <tr>\n",
              "      <th>9</th>\n",
              "      <td>3.92</td>\n",
              "      <td>3.440</td>\n",
              "      <td>18.30</td>\n",
              "    </tr>\n",
              "  </tbody>\n",
              "</table>\n",
              "</div>"
            ],
            "text/plain": [
              "   Points  Score  Weigh\n",
              "1    3.90  2.875  17.02\n",
              "2    3.85  2.320  18.61\n",
              "3    3.08  3.215  19.44\n",
              "4    3.15  3.440  17.02\n",
              "5    2.76  3.460  20.22\n",
              "6    3.21  3.570  15.84\n",
              "7    3.69  3.190  20.00\n",
              "8    3.92  3.150  22.90\n",
              "9    3.92  3.440  18.30"
            ]
          },
          "execution_count": 14,
          "metadata": {},
          "output_type": "execute_result"
        }
      ],
      "source": [
        "df.iloc[1:10,1:5]"
      ]
    },
    {
      "cell_type": "code",
      "execution_count": null,
      "id": "92c80745",
      "metadata": {
        "id": "92c80745",
        "outputId": "5bfae286-c1f7-4cf0-9215-ab27493d03b6"
      },
      "outputs": [
        {
          "data": {
            "text/html": [
              "<div>\n",
              "<style scoped>\n",
              "    .dataframe tbody tr th:only-of-type {\n",
              "        vertical-align: middle;\n",
              "    }\n",
              "\n",
              "    .dataframe tbody tr th {\n",
              "        vertical-align: top;\n",
              "    }\n",
              "\n",
              "    .dataframe thead th {\n",
              "        text-align: right;\n",
              "    }\n",
              "</style>\n",
              "<table border=\"1\" class=\"dataframe\">\n",
              "  <thead>\n",
              "    <tr style=\"text-align: right;\">\n",
              "      <th></th>\n",
              "      <th>Unnamed: 0</th>\n",
              "      <th>Points</th>\n",
              "      <th>Score</th>\n",
              "      <th>Weigh</th>\n",
              "    </tr>\n",
              "  </thead>\n",
              "  <tbody>\n",
              "    <tr>\n",
              "      <th>17</th>\n",
              "      <td>Fiat 128</td>\n",
              "      <td>4.08</td>\n",
              "      <td>2.200</td>\n",
              "      <td>19.47</td>\n",
              "    </tr>\n",
              "    <tr>\n",
              "      <th>18</th>\n",
              "      <td>Honda Civic</td>\n",
              "      <td>4.93</td>\n",
              "      <td>1.615</td>\n",
              "      <td>18.52</td>\n",
              "    </tr>\n",
              "    <tr>\n",
              "      <th>19</th>\n",
              "      <td>Toyota Corolla</td>\n",
              "      <td>4.22</td>\n",
              "      <td>1.835</td>\n",
              "      <td>19.90</td>\n",
              "    </tr>\n",
              "    <tr>\n",
              "      <th>25</th>\n",
              "      <td>Fiat X1-9</td>\n",
              "      <td>4.08</td>\n",
              "      <td>1.935</td>\n",
              "      <td>18.90</td>\n",
              "    </tr>\n",
              "    <tr>\n",
              "      <th>26</th>\n",
              "      <td>Porsche 914-2</td>\n",
              "      <td>4.43</td>\n",
              "      <td>2.140</td>\n",
              "      <td>16.70</td>\n",
              "    </tr>\n",
              "    <tr>\n",
              "      <th>28</th>\n",
              "      <td>Ford Pantera L</td>\n",
              "      <td>4.22</td>\n",
              "      <td>3.170</td>\n",
              "      <td>14.50</td>\n",
              "    </tr>\n",
              "    <tr>\n",
              "      <th>31</th>\n",
              "      <td>Volvo 142E</td>\n",
              "      <td>4.11</td>\n",
              "      <td>2.780</td>\n",
              "      <td>18.60</td>\n",
              "    </tr>\n",
              "  </tbody>\n",
              "</table>\n",
              "</div>"
            ],
            "text/plain": [
              "        Unnamed: 0  Points  Score  Weigh\n",
              "17        Fiat 128    4.08  2.200  19.47\n",
              "18     Honda Civic    4.93  1.615  18.52\n",
              "19  Toyota Corolla    4.22  1.835  19.90\n",
              "25       Fiat X1-9    4.08  1.935  18.90\n",
              "26   Porsche 914-2    4.43  2.140  16.70\n",
              "28  Ford Pantera L    4.22  3.170  14.50\n",
              "31      Volvo 142E    4.11  2.780  18.60"
            ]
          },
          "execution_count": 15,
          "metadata": {},
          "output_type": "execute_result"
        }
      ],
      "source": [
        "df[(df.Points>4)]"
      ]
    },
    {
      "cell_type": "code",
      "execution_count": null,
      "id": "f51bcca0",
      "metadata": {
        "id": "f51bcca0",
        "outputId": "5cd2eea7-65c2-40b6-ed12-7825dece4ab3"
      },
      "outputs": [
        {
          "data": {
            "text/html": [
              "<div>\n",
              "<style scoped>\n",
              "    .dataframe tbody tr th:only-of-type {\n",
              "        vertical-align: middle;\n",
              "    }\n",
              "\n",
              "    .dataframe tbody tr th {\n",
              "        vertical-align: top;\n",
              "    }\n",
              "\n",
              "    .dataframe thead th {\n",
              "        text-align: right;\n",
              "    }\n",
              "</style>\n",
              "<table border=\"1\" class=\"dataframe\">\n",
              "  <thead>\n",
              "    <tr style=\"text-align: right;\">\n",
              "      <th></th>\n",
              "      <th>Unnamed: 0</th>\n",
              "      <th>Points</th>\n",
              "      <th>Score</th>\n",
              "      <th>Weigh</th>\n",
              "    </tr>\n",
              "  </thead>\n",
              "  <tbody>\n",
              "    <tr>\n",
              "      <th>18</th>\n",
              "      <td>Honda Civic</td>\n",
              "      <td>4.93</td>\n",
              "      <td>1.615</td>\n",
              "      <td>18.52</td>\n",
              "    </tr>\n",
              "    <tr>\n",
              "      <th>26</th>\n",
              "      <td>Porsche 914-2</td>\n",
              "      <td>4.43</td>\n",
              "      <td>2.140</td>\n",
              "      <td>16.70</td>\n",
              "    </tr>\n",
              "    <tr>\n",
              "      <th>19</th>\n",
              "      <td>Toyota Corolla</td>\n",
              "      <td>4.22</td>\n",
              "      <td>1.835</td>\n",
              "      <td>19.90</td>\n",
              "    </tr>\n",
              "    <tr>\n",
              "      <th>28</th>\n",
              "      <td>Ford Pantera L</td>\n",
              "      <td>4.22</td>\n",
              "      <td>3.170</td>\n",
              "      <td>14.50</td>\n",
              "    </tr>\n",
              "    <tr>\n",
              "      <th>31</th>\n",
              "      <td>Volvo 142E</td>\n",
              "      <td>4.11</td>\n",
              "      <td>2.780</td>\n",
              "      <td>18.60</td>\n",
              "    </tr>\n",
              "    <tr>\n",
              "      <th>25</th>\n",
              "      <td>Fiat X1-9</td>\n",
              "      <td>4.08</td>\n",
              "      <td>1.935</td>\n",
              "      <td>18.90</td>\n",
              "    </tr>\n",
              "    <tr>\n",
              "      <th>17</th>\n",
              "      <td>Fiat 128</td>\n",
              "      <td>4.08</td>\n",
              "      <td>2.200</td>\n",
              "      <td>19.47</td>\n",
              "    </tr>\n",
              "    <tr>\n",
              "      <th>8</th>\n",
              "      <td>Merc 230</td>\n",
              "      <td>3.92</td>\n",
              "      <td>3.150</td>\n",
              "      <td>22.90</td>\n",
              "    </tr>\n",
              "    <tr>\n",
              "      <th>9</th>\n",
              "      <td>Merc 280</td>\n",
              "      <td>3.92</td>\n",
              "      <td>3.440</td>\n",
              "      <td>18.30</td>\n",
              "    </tr>\n",
              "    <tr>\n",
              "      <th>10</th>\n",
              "      <td>Merc 280C</td>\n",
              "      <td>3.92</td>\n",
              "      <td>3.440</td>\n",
              "      <td>18.90</td>\n",
              "    </tr>\n",
              "    <tr>\n",
              "      <th>0</th>\n",
              "      <td>Mazda RX4</td>\n",
              "      <td>3.90</td>\n",
              "      <td>2.620</td>\n",
              "      <td>16.46</td>\n",
              "    </tr>\n",
              "    <tr>\n",
              "      <th>1</th>\n",
              "      <td>Mazda RX4 Wag</td>\n",
              "      <td>3.90</td>\n",
              "      <td>2.875</td>\n",
              "      <td>17.02</td>\n",
              "    </tr>\n",
              "    <tr>\n",
              "      <th>2</th>\n",
              "      <td>Datsun 710</td>\n",
              "      <td>3.85</td>\n",
              "      <td>2.320</td>\n",
              "      <td>18.61</td>\n",
              "    </tr>\n",
              "    <tr>\n",
              "      <th>27</th>\n",
              "      <td>Lotus Europa</td>\n",
              "      <td>3.77</td>\n",
              "      <td>1.513</td>\n",
              "      <td>16.90</td>\n",
              "    </tr>\n",
              "    <tr>\n",
              "      <th>23</th>\n",
              "      <td>Camaro Z28</td>\n",
              "      <td>3.73</td>\n",
              "      <td>3.840</td>\n",
              "      <td>15.41</td>\n",
              "    </tr>\n",
              "    <tr>\n",
              "      <th>20</th>\n",
              "      <td>Toyota Corona</td>\n",
              "      <td>3.70</td>\n",
              "      <td>2.465</td>\n",
              "      <td>20.01</td>\n",
              "    </tr>\n",
              "    <tr>\n",
              "      <th>7</th>\n",
              "      <td>Merc 240D</td>\n",
              "      <td>3.69</td>\n",
              "      <td>3.190</td>\n",
              "      <td>20.00</td>\n",
              "    </tr>\n",
              "    <tr>\n",
              "      <th>29</th>\n",
              "      <td>Ferrari Dino</td>\n",
              "      <td>3.62</td>\n",
              "      <td>2.770</td>\n",
              "      <td>15.50</td>\n",
              "    </tr>\n",
              "    <tr>\n",
              "      <th>30</th>\n",
              "      <td>Maserati Bora</td>\n",
              "      <td>3.54</td>\n",
              "      <td>3.570</td>\n",
              "      <td>14.60</td>\n",
              "    </tr>\n",
              "    <tr>\n",
              "      <th>16</th>\n",
              "      <td>Chrysler Imperial</td>\n",
              "      <td>3.23</td>\n",
              "      <td>5.345</td>\n",
              "      <td>17.42</td>\n",
              "    </tr>\n",
              "    <tr>\n",
              "      <th>6</th>\n",
              "      <td>Duster 360</td>\n",
              "      <td>3.21</td>\n",
              "      <td>3.570</td>\n",
              "      <td>15.84</td>\n",
              "    </tr>\n",
              "    <tr>\n",
              "      <th>22</th>\n",
              "      <td>AMC Javelin</td>\n",
              "      <td>3.15</td>\n",
              "      <td>3.435</td>\n",
              "      <td>17.30</td>\n",
              "    </tr>\n",
              "    <tr>\n",
              "      <th>4</th>\n",
              "      <td>Hornet Sportabout</td>\n",
              "      <td>3.15</td>\n",
              "      <td>3.440</td>\n",
              "      <td>17.02</td>\n",
              "    </tr>\n",
              "    <tr>\n",
              "      <th>3</th>\n",
              "      <td>Hornet 4 Drive</td>\n",
              "      <td>3.08</td>\n",
              "      <td>3.215</td>\n",
              "      <td>19.44</td>\n",
              "    </tr>\n",
              "    <tr>\n",
              "      <th>24</th>\n",
              "      <td>Pontiac Firebird</td>\n",
              "      <td>3.08</td>\n",
              "      <td>3.845</td>\n",
              "      <td>17.05</td>\n",
              "    </tr>\n",
              "    <tr>\n",
              "      <th>12</th>\n",
              "      <td>Merc 450SL</td>\n",
              "      <td>3.07</td>\n",
              "      <td>3.730</td>\n",
              "      <td>17.60</td>\n",
              "    </tr>\n",
              "    <tr>\n",
              "      <th>13</th>\n",
              "      <td>Merc 450SLC</td>\n",
              "      <td>3.07</td>\n",
              "      <td>3.780</td>\n",
              "      <td>18.00</td>\n",
              "    </tr>\n",
              "    <tr>\n",
              "      <th>11</th>\n",
              "      <td>Merc 450SE</td>\n",
              "      <td>3.07</td>\n",
              "      <td>4.070</td>\n",
              "      <td>17.40</td>\n",
              "    </tr>\n",
              "    <tr>\n",
              "      <th>15</th>\n",
              "      <td>Lincoln Continental</td>\n",
              "      <td>3.00</td>\n",
              "      <td>5.424</td>\n",
              "      <td>17.82</td>\n",
              "    </tr>\n",
              "    <tr>\n",
              "      <th>14</th>\n",
              "      <td>Cadillac Fleetwood</td>\n",
              "      <td>2.93</td>\n",
              "      <td>5.250</td>\n",
              "      <td>17.98</td>\n",
              "    </tr>\n",
              "    <tr>\n",
              "      <th>5</th>\n",
              "      <td>Valiant</td>\n",
              "      <td>2.76</td>\n",
              "      <td>3.460</td>\n",
              "      <td>20.22</td>\n",
              "    </tr>\n",
              "    <tr>\n",
              "      <th>21</th>\n",
              "      <td>Dodge Challenger</td>\n",
              "      <td>2.76</td>\n",
              "      <td>3.520</td>\n",
              "      <td>16.87</td>\n",
              "    </tr>\n",
              "  </tbody>\n",
              "</table>\n",
              "</div>"
            ],
            "text/plain": [
              "             Unnamed: 0  Points  Score  Weigh\n",
              "18          Honda Civic    4.93  1.615  18.52\n",
              "26        Porsche 914-2    4.43  2.140  16.70\n",
              "19       Toyota Corolla    4.22  1.835  19.90\n",
              "28       Ford Pantera L    4.22  3.170  14.50\n",
              "31           Volvo 142E    4.11  2.780  18.60\n",
              "25            Fiat X1-9    4.08  1.935  18.90\n",
              "17             Fiat 128    4.08  2.200  19.47\n",
              "8              Merc 230    3.92  3.150  22.90\n",
              "9              Merc 280    3.92  3.440  18.30\n",
              "10            Merc 280C    3.92  3.440  18.90\n",
              "0             Mazda RX4    3.90  2.620  16.46\n",
              "1         Mazda RX4 Wag    3.90  2.875  17.02\n",
              "2            Datsun 710    3.85  2.320  18.61\n",
              "27         Lotus Europa    3.77  1.513  16.90\n",
              "23           Camaro Z28    3.73  3.840  15.41\n",
              "20        Toyota Corona    3.70  2.465  20.01\n",
              "7             Merc 240D    3.69  3.190  20.00\n",
              "29         Ferrari Dino    3.62  2.770  15.50\n",
              "30        Maserati Bora    3.54  3.570  14.60\n",
              "16    Chrysler Imperial    3.23  5.345  17.42\n",
              "6            Duster 360    3.21  3.570  15.84\n",
              "22          AMC Javelin    3.15  3.435  17.30\n",
              "4     Hornet Sportabout    3.15  3.440  17.02\n",
              "3        Hornet 4 Drive    3.08  3.215  19.44\n",
              "24     Pontiac Firebird    3.08  3.845  17.05\n",
              "12           Merc 450SL    3.07  3.730  17.60\n",
              "13          Merc 450SLC    3.07  3.780  18.00\n",
              "11           Merc 450SE    3.07  4.070  17.40\n",
              "15  Lincoln Continental    3.00  5.424  17.82\n",
              "14   Cadillac Fleetwood    2.93  5.250  17.98\n",
              "5               Valiant    2.76  3.460  20.22\n",
              "21     Dodge Challenger    2.76  3.520  16.87"
            ]
          },
          "execution_count": 16,
          "metadata": {},
          "output_type": "execute_result"
        }
      ],
      "source": [
        "df.sort_values([\"Points\",\"Score\"],ascending=[False,True])"
      ]
    },
    {
      "cell_type": "code",
      "execution_count": null,
      "id": "0c7e5d66",
      "metadata": {
        "id": "0c7e5d66",
        "outputId": "749ba3e8-080b-4ab8-999c-dbb71b7659d3"
      },
      "outputs": [
        {
          "data": {
            "text/plain": [
              "Unnamed: 0           Points  Score  Weigh\n",
              "AMC Javelin          3.15    3.435  17.30    1\n",
              "Cadillac Fleetwood   2.93    5.250  17.98    1\n",
              "Valiant              2.76    3.460  20.22    1\n",
              "Toyota Corona        3.70    2.465  20.01    1\n",
              "Toyota Corolla       4.22    1.835  19.90    1\n",
              "Porsche 914-2        4.43    2.140  16.70    1\n",
              "Pontiac Firebird     3.08    3.845  17.05    1\n",
              "Merc 450SLC          3.07    3.780  18.00    1\n",
              "Merc 450SL           3.07    3.730  17.60    1\n",
              "Merc 450SE           3.07    4.070  17.40    1\n",
              "Merc 280C            3.92    3.440  18.90    1\n",
              "Merc 280             3.92    3.440  18.30    1\n",
              "Merc 240D            3.69    3.190  20.00    1\n",
              "Merc 230             3.92    3.150  22.90    1\n",
              "Mazda RX4 Wag        3.90    2.875  17.02    1\n",
              "Mazda RX4            3.90    2.620  16.46    1\n",
              "Maserati Bora        3.54    3.570  14.60    1\n",
              "Lotus Europa         3.77    1.513  16.90    1\n",
              "Lincoln Continental  3.00    5.424  17.82    1\n",
              "Hornet Sportabout    3.15    3.440  17.02    1\n",
              "Hornet 4 Drive       3.08    3.215  19.44    1\n",
              "Honda Civic          4.93    1.615  18.52    1\n",
              "Ford Pantera L       4.22    3.170  14.50    1\n",
              "Fiat X1-9            4.08    1.935  18.90    1\n",
              "Fiat 128             4.08    2.200  19.47    1\n",
              "Ferrari Dino         3.62    2.770  15.50    1\n",
              "Duster 360           3.21    3.570  15.84    1\n",
              "Dodge Challenger     2.76    3.520  16.87    1\n",
              "Datsun 710           3.85    2.320  18.61    1\n",
              "Chrysler Imperial    3.23    5.345  17.42    1\n",
              "Camaro Z28           3.73    3.840  15.41    1\n",
              "Volvo 142E           4.11    2.780  18.60    1\n",
              "dtype: int64"
            ]
          },
          "execution_count": 17,
          "metadata": {},
          "output_type": "execute_result"
        }
      ],
      "source": [
        "df.value_counts()"
      ]
    },
    {
      "cell_type": "code",
      "execution_count": null,
      "id": "e82dd81c",
      "metadata": {
        "id": "e82dd81c",
        "outputId": "3945864d-6936-467b-9966-8c29df748c81"
      },
      "outputs": [
        {
          "data": {
            "text/html": [
              "<div>\n",
              "<style scoped>\n",
              "    .dataframe tbody tr th:only-of-type {\n",
              "        vertical-align: middle;\n",
              "    }\n",
              "\n",
              "    .dataframe tbody tr th {\n",
              "        vertical-align: top;\n",
              "    }\n",
              "\n",
              "    .dataframe thead tr th {\n",
              "        text-align: left;\n",
              "    }\n",
              "\n",
              "    .dataframe thead tr:last-of-type th {\n",
              "        text-align: right;\n",
              "    }\n",
              "</style>\n",
              "<table border=\"1\" class=\"dataframe\">\n",
              "  <thead>\n",
              "    <tr>\n",
              "      <th></th>\n",
              "      <th colspan=\"8\" halign=\"left\">Points</th>\n",
              "      <th colspan=\"8\" halign=\"left\">Weigh</th>\n",
              "    </tr>\n",
              "    <tr>\n",
              "      <th></th>\n",
              "      <th>count</th>\n",
              "      <th>mean</th>\n",
              "      <th>std</th>\n",
              "      <th>min</th>\n",
              "      <th>25%</th>\n",
              "      <th>50%</th>\n",
              "      <th>75%</th>\n",
              "      <th>max</th>\n",
              "      <th>count</th>\n",
              "      <th>mean</th>\n",
              "      <th>std</th>\n",
              "      <th>min</th>\n",
              "      <th>25%</th>\n",
              "      <th>50%</th>\n",
              "      <th>75%</th>\n",
              "      <th>max</th>\n",
              "    </tr>\n",
              "    <tr>\n",
              "      <th>Score</th>\n",
              "      <th></th>\n",
              "      <th></th>\n",
              "      <th></th>\n",
              "      <th></th>\n",
              "      <th></th>\n",
              "      <th></th>\n",
              "      <th></th>\n",
              "      <th></th>\n",
              "      <th></th>\n",
              "      <th></th>\n",
              "      <th></th>\n",
              "      <th></th>\n",
              "      <th></th>\n",
              "      <th></th>\n",
              "      <th></th>\n",
              "      <th></th>\n",
              "    </tr>\n",
              "  </thead>\n",
              "  <tbody>\n",
              "    <tr>\n",
              "      <th>1.513</th>\n",
              "      <td>1.0</td>\n",
              "      <td>3.770000</td>\n",
              "      <td>NaN</td>\n",
              "      <td>3.77</td>\n",
              "      <td>3.7700</td>\n",
              "      <td>3.770</td>\n",
              "      <td>3.7700</td>\n",
              "      <td>3.77</td>\n",
              "      <td>1.0</td>\n",
              "      <td>16.900000</td>\n",
              "      <td>NaN</td>\n",
              "      <td>16.90</td>\n",
              "      <td>16.90</td>\n",
              "      <td>16.90</td>\n",
              "      <td>16.90</td>\n",
              "      <td>16.90</td>\n",
              "    </tr>\n",
              "    <tr>\n",
              "      <th>1.615</th>\n",
              "      <td>1.0</td>\n",
              "      <td>4.930000</td>\n",
              "      <td>NaN</td>\n",
              "      <td>4.93</td>\n",
              "      <td>4.9300</td>\n",
              "      <td>4.930</td>\n",
              "      <td>4.9300</td>\n",
              "      <td>4.93</td>\n",
              "      <td>1.0</td>\n",
              "      <td>18.520000</td>\n",
              "      <td>NaN</td>\n",
              "      <td>18.52</td>\n",
              "      <td>18.52</td>\n",
              "      <td>18.52</td>\n",
              "      <td>18.52</td>\n",
              "      <td>18.52</td>\n",
              "    </tr>\n",
              "    <tr>\n",
              "      <th>1.835</th>\n",
              "      <td>1.0</td>\n",
              "      <td>4.220000</td>\n",
              "      <td>NaN</td>\n",
              "      <td>4.22</td>\n",
              "      <td>4.2200</td>\n",
              "      <td>4.220</td>\n",
              "      <td>4.2200</td>\n",
              "      <td>4.22</td>\n",
              "      <td>1.0</td>\n",
              "      <td>19.900000</td>\n",
              "      <td>NaN</td>\n",
              "      <td>19.90</td>\n",
              "      <td>19.90</td>\n",
              "      <td>19.90</td>\n",
              "      <td>19.90</td>\n",
              "      <td>19.90</td>\n",
              "    </tr>\n",
              "    <tr>\n",
              "      <th>1.935</th>\n",
              "      <td>1.0</td>\n",
              "      <td>4.080000</td>\n",
              "      <td>NaN</td>\n",
              "      <td>4.08</td>\n",
              "      <td>4.0800</td>\n",
              "      <td>4.080</td>\n",
              "      <td>4.0800</td>\n",
              "      <td>4.08</td>\n",
              "      <td>1.0</td>\n",
              "      <td>18.900000</td>\n",
              "      <td>NaN</td>\n",
              "      <td>18.90</td>\n",
              "      <td>18.90</td>\n",
              "      <td>18.90</td>\n",
              "      <td>18.90</td>\n",
              "      <td>18.90</td>\n",
              "    </tr>\n",
              "    <tr>\n",
              "      <th>2.140</th>\n",
              "      <td>1.0</td>\n",
              "      <td>4.430000</td>\n",
              "      <td>NaN</td>\n",
              "      <td>4.43</td>\n",
              "      <td>4.4300</td>\n",
              "      <td>4.430</td>\n",
              "      <td>4.4300</td>\n",
              "      <td>4.43</td>\n",
              "      <td>1.0</td>\n",
              "      <td>16.700000</td>\n",
              "      <td>NaN</td>\n",
              "      <td>16.70</td>\n",
              "      <td>16.70</td>\n",
              "      <td>16.70</td>\n",
              "      <td>16.70</td>\n",
              "      <td>16.70</td>\n",
              "    </tr>\n",
              "    <tr>\n",
              "      <th>2.200</th>\n",
              "      <td>1.0</td>\n",
              "      <td>4.080000</td>\n",
              "      <td>NaN</td>\n",
              "      <td>4.08</td>\n",
              "      <td>4.0800</td>\n",
              "      <td>4.080</td>\n",
              "      <td>4.0800</td>\n",
              "      <td>4.08</td>\n",
              "      <td>1.0</td>\n",
              "      <td>19.470000</td>\n",
              "      <td>NaN</td>\n",
              "      <td>19.47</td>\n",
              "      <td>19.47</td>\n",
              "      <td>19.47</td>\n",
              "      <td>19.47</td>\n",
              "      <td>19.47</td>\n",
              "    </tr>\n",
              "    <tr>\n",
              "      <th>2.320</th>\n",
              "      <td>1.0</td>\n",
              "      <td>3.850000</td>\n",
              "      <td>NaN</td>\n",
              "      <td>3.85</td>\n",
              "      <td>3.8500</td>\n",
              "      <td>3.850</td>\n",
              "      <td>3.8500</td>\n",
              "      <td>3.85</td>\n",
              "      <td>1.0</td>\n",
              "      <td>18.610000</td>\n",
              "      <td>NaN</td>\n",
              "      <td>18.61</td>\n",
              "      <td>18.61</td>\n",
              "      <td>18.61</td>\n",
              "      <td>18.61</td>\n",
              "      <td>18.61</td>\n",
              "    </tr>\n",
              "    <tr>\n",
              "      <th>2.465</th>\n",
              "      <td>1.0</td>\n",
              "      <td>3.700000</td>\n",
              "      <td>NaN</td>\n",
              "      <td>3.70</td>\n",
              "      <td>3.7000</td>\n",
              "      <td>3.700</td>\n",
              "      <td>3.7000</td>\n",
              "      <td>3.70</td>\n",
              "      <td>1.0</td>\n",
              "      <td>20.010000</td>\n",
              "      <td>NaN</td>\n",
              "      <td>20.01</td>\n",
              "      <td>20.01</td>\n",
              "      <td>20.01</td>\n",
              "      <td>20.01</td>\n",
              "      <td>20.01</td>\n",
              "    </tr>\n",
              "    <tr>\n",
              "      <th>2.620</th>\n",
              "      <td>1.0</td>\n",
              "      <td>3.900000</td>\n",
              "      <td>NaN</td>\n",
              "      <td>3.90</td>\n",
              "      <td>3.9000</td>\n",
              "      <td>3.900</td>\n",
              "      <td>3.9000</td>\n",
              "      <td>3.90</td>\n",
              "      <td>1.0</td>\n",
              "      <td>16.460000</td>\n",
              "      <td>NaN</td>\n",
              "      <td>16.46</td>\n",
              "      <td>16.46</td>\n",
              "      <td>16.46</td>\n",
              "      <td>16.46</td>\n",
              "      <td>16.46</td>\n",
              "    </tr>\n",
              "    <tr>\n",
              "      <th>2.770</th>\n",
              "      <td>1.0</td>\n",
              "      <td>3.620000</td>\n",
              "      <td>NaN</td>\n",
              "      <td>3.62</td>\n",
              "      <td>3.6200</td>\n",
              "      <td>3.620</td>\n",
              "      <td>3.6200</td>\n",
              "      <td>3.62</td>\n",
              "      <td>1.0</td>\n",
              "      <td>15.500000</td>\n",
              "      <td>NaN</td>\n",
              "      <td>15.50</td>\n",
              "      <td>15.50</td>\n",
              "      <td>15.50</td>\n",
              "      <td>15.50</td>\n",
              "      <td>15.50</td>\n",
              "    </tr>\n",
              "    <tr>\n",
              "      <th>2.780</th>\n",
              "      <td>1.0</td>\n",
              "      <td>4.110000</td>\n",
              "      <td>NaN</td>\n",
              "      <td>4.11</td>\n",
              "      <td>4.1100</td>\n",
              "      <td>4.110</td>\n",
              "      <td>4.1100</td>\n",
              "      <td>4.11</td>\n",
              "      <td>1.0</td>\n",
              "      <td>18.600000</td>\n",
              "      <td>NaN</td>\n",
              "      <td>18.60</td>\n",
              "      <td>18.60</td>\n",
              "      <td>18.60</td>\n",
              "      <td>18.60</td>\n",
              "      <td>18.60</td>\n",
              "    </tr>\n",
              "    <tr>\n",
              "      <th>2.875</th>\n",
              "      <td>1.0</td>\n",
              "      <td>3.900000</td>\n",
              "      <td>NaN</td>\n",
              "      <td>3.90</td>\n",
              "      <td>3.9000</td>\n",
              "      <td>3.900</td>\n",
              "      <td>3.9000</td>\n",
              "      <td>3.90</td>\n",
              "      <td>1.0</td>\n",
              "      <td>17.020000</td>\n",
              "      <td>NaN</td>\n",
              "      <td>17.02</td>\n",
              "      <td>17.02</td>\n",
              "      <td>17.02</td>\n",
              "      <td>17.02</td>\n",
              "      <td>17.02</td>\n",
              "    </tr>\n",
              "    <tr>\n",
              "      <th>3.150</th>\n",
              "      <td>1.0</td>\n",
              "      <td>3.920000</td>\n",
              "      <td>NaN</td>\n",
              "      <td>3.92</td>\n",
              "      <td>3.9200</td>\n",
              "      <td>3.920</td>\n",
              "      <td>3.9200</td>\n",
              "      <td>3.92</td>\n",
              "      <td>1.0</td>\n",
              "      <td>22.900000</td>\n",
              "      <td>NaN</td>\n",
              "      <td>22.90</td>\n",
              "      <td>22.90</td>\n",
              "      <td>22.90</td>\n",
              "      <td>22.90</td>\n",
              "      <td>22.90</td>\n",
              "    </tr>\n",
              "    <tr>\n",
              "      <th>3.170</th>\n",
              "      <td>1.0</td>\n",
              "      <td>4.220000</td>\n",
              "      <td>NaN</td>\n",
              "      <td>4.22</td>\n",
              "      <td>4.2200</td>\n",
              "      <td>4.220</td>\n",
              "      <td>4.2200</td>\n",
              "      <td>4.22</td>\n",
              "      <td>1.0</td>\n",
              "      <td>14.500000</td>\n",
              "      <td>NaN</td>\n",
              "      <td>14.50</td>\n",
              "      <td>14.50</td>\n",
              "      <td>14.50</td>\n",
              "      <td>14.50</td>\n",
              "      <td>14.50</td>\n",
              "    </tr>\n",
              "    <tr>\n",
              "      <th>3.190</th>\n",
              "      <td>1.0</td>\n",
              "      <td>3.690000</td>\n",
              "      <td>NaN</td>\n",
              "      <td>3.69</td>\n",
              "      <td>3.6900</td>\n",
              "      <td>3.690</td>\n",
              "      <td>3.6900</td>\n",
              "      <td>3.69</td>\n",
              "      <td>1.0</td>\n",
              "      <td>20.000000</td>\n",
              "      <td>NaN</td>\n",
              "      <td>20.00</td>\n",
              "      <td>20.00</td>\n",
              "      <td>20.00</td>\n",
              "      <td>20.00</td>\n",
              "      <td>20.00</td>\n",
              "    </tr>\n",
              "    <tr>\n",
              "      <th>3.215</th>\n",
              "      <td>1.0</td>\n",
              "      <td>3.080000</td>\n",
              "      <td>NaN</td>\n",
              "      <td>3.08</td>\n",
              "      <td>3.0800</td>\n",
              "      <td>3.080</td>\n",
              "      <td>3.0800</td>\n",
              "      <td>3.08</td>\n",
              "      <td>1.0</td>\n",
              "      <td>19.440000</td>\n",
              "      <td>NaN</td>\n",
              "      <td>19.44</td>\n",
              "      <td>19.44</td>\n",
              "      <td>19.44</td>\n",
              "      <td>19.44</td>\n",
              "      <td>19.44</td>\n",
              "    </tr>\n",
              "    <tr>\n",
              "      <th>3.435</th>\n",
              "      <td>1.0</td>\n",
              "      <td>3.150000</td>\n",
              "      <td>NaN</td>\n",
              "      <td>3.15</td>\n",
              "      <td>3.1500</td>\n",
              "      <td>3.150</td>\n",
              "      <td>3.1500</td>\n",
              "      <td>3.15</td>\n",
              "      <td>1.0</td>\n",
              "      <td>17.300000</td>\n",
              "      <td>NaN</td>\n",
              "      <td>17.30</td>\n",
              "      <td>17.30</td>\n",
              "      <td>17.30</td>\n",
              "      <td>17.30</td>\n",
              "      <td>17.30</td>\n",
              "    </tr>\n",
              "    <tr>\n",
              "      <th>3.440</th>\n",
              "      <td>3.0</td>\n",
              "      <td>3.663333</td>\n",
              "      <td>0.444560</td>\n",
              "      <td>3.15</td>\n",
              "      <td>3.5350</td>\n",
              "      <td>3.920</td>\n",
              "      <td>3.9200</td>\n",
              "      <td>3.92</td>\n",
              "      <td>3.0</td>\n",
              "      <td>18.073333</td>\n",
              "      <td>0.960278</td>\n",
              "      <td>17.02</td>\n",
              "      <td>17.66</td>\n",
              "      <td>18.30</td>\n",
              "      <td>18.60</td>\n",
              "      <td>18.90</td>\n",
              "    </tr>\n",
              "    <tr>\n",
              "      <th>3.460</th>\n",
              "      <td>1.0</td>\n",
              "      <td>2.760000</td>\n",
              "      <td>NaN</td>\n",
              "      <td>2.76</td>\n",
              "      <td>2.7600</td>\n",
              "      <td>2.760</td>\n",
              "      <td>2.7600</td>\n",
              "      <td>2.76</td>\n",
              "      <td>1.0</td>\n",
              "      <td>20.220000</td>\n",
              "      <td>NaN</td>\n",
              "      <td>20.22</td>\n",
              "      <td>20.22</td>\n",
              "      <td>20.22</td>\n",
              "      <td>20.22</td>\n",
              "      <td>20.22</td>\n",
              "    </tr>\n",
              "    <tr>\n",
              "      <th>3.520</th>\n",
              "      <td>1.0</td>\n",
              "      <td>2.760000</td>\n",
              "      <td>NaN</td>\n",
              "      <td>2.76</td>\n",
              "      <td>2.7600</td>\n",
              "      <td>2.760</td>\n",
              "      <td>2.7600</td>\n",
              "      <td>2.76</td>\n",
              "      <td>1.0</td>\n",
              "      <td>16.870000</td>\n",
              "      <td>NaN</td>\n",
              "      <td>16.87</td>\n",
              "      <td>16.87</td>\n",
              "      <td>16.87</td>\n",
              "      <td>16.87</td>\n",
              "      <td>16.87</td>\n",
              "    </tr>\n",
              "    <tr>\n",
              "      <th>3.570</th>\n",
              "      <td>2.0</td>\n",
              "      <td>3.375000</td>\n",
              "      <td>0.233345</td>\n",
              "      <td>3.21</td>\n",
              "      <td>3.2925</td>\n",
              "      <td>3.375</td>\n",
              "      <td>3.4575</td>\n",
              "      <td>3.54</td>\n",
              "      <td>2.0</td>\n",
              "      <td>15.220000</td>\n",
              "      <td>0.876812</td>\n",
              "      <td>14.60</td>\n",
              "      <td>14.91</td>\n",
              "      <td>15.22</td>\n",
              "      <td>15.53</td>\n",
              "      <td>15.84</td>\n",
              "    </tr>\n",
              "    <tr>\n",
              "      <th>3.730</th>\n",
              "      <td>1.0</td>\n",
              "      <td>3.070000</td>\n",
              "      <td>NaN</td>\n",
              "      <td>3.07</td>\n",
              "      <td>3.0700</td>\n",
              "      <td>3.070</td>\n",
              "      <td>3.0700</td>\n",
              "      <td>3.07</td>\n",
              "      <td>1.0</td>\n",
              "      <td>17.600000</td>\n",
              "      <td>NaN</td>\n",
              "      <td>17.60</td>\n",
              "      <td>17.60</td>\n",
              "      <td>17.60</td>\n",
              "      <td>17.60</td>\n",
              "      <td>17.60</td>\n",
              "    </tr>\n",
              "    <tr>\n",
              "      <th>3.780</th>\n",
              "      <td>1.0</td>\n",
              "      <td>3.070000</td>\n",
              "      <td>NaN</td>\n",
              "      <td>3.07</td>\n",
              "      <td>3.0700</td>\n",
              "      <td>3.070</td>\n",
              "      <td>3.0700</td>\n",
              "      <td>3.07</td>\n",
              "      <td>1.0</td>\n",
              "      <td>18.000000</td>\n",
              "      <td>NaN</td>\n",
              "      <td>18.00</td>\n",
              "      <td>18.00</td>\n",
              "      <td>18.00</td>\n",
              "      <td>18.00</td>\n",
              "      <td>18.00</td>\n",
              "    </tr>\n",
              "    <tr>\n",
              "      <th>3.840</th>\n",
              "      <td>1.0</td>\n",
              "      <td>3.730000</td>\n",
              "      <td>NaN</td>\n",
              "      <td>3.73</td>\n",
              "      <td>3.7300</td>\n",
              "      <td>3.730</td>\n",
              "      <td>3.7300</td>\n",
              "      <td>3.73</td>\n",
              "      <td>1.0</td>\n",
              "      <td>15.410000</td>\n",
              "      <td>NaN</td>\n",
              "      <td>15.41</td>\n",
              "      <td>15.41</td>\n",
              "      <td>15.41</td>\n",
              "      <td>15.41</td>\n",
              "      <td>15.41</td>\n",
              "    </tr>\n",
              "    <tr>\n",
              "      <th>3.845</th>\n",
              "      <td>1.0</td>\n",
              "      <td>3.080000</td>\n",
              "      <td>NaN</td>\n",
              "      <td>3.08</td>\n",
              "      <td>3.0800</td>\n",
              "      <td>3.080</td>\n",
              "      <td>3.0800</td>\n",
              "      <td>3.08</td>\n",
              "      <td>1.0</td>\n",
              "      <td>17.050000</td>\n",
              "      <td>NaN</td>\n",
              "      <td>17.05</td>\n",
              "      <td>17.05</td>\n",
              "      <td>17.05</td>\n",
              "      <td>17.05</td>\n",
              "      <td>17.05</td>\n",
              "    </tr>\n",
              "    <tr>\n",
              "      <th>4.070</th>\n",
              "      <td>1.0</td>\n",
              "      <td>3.070000</td>\n",
              "      <td>NaN</td>\n",
              "      <td>3.07</td>\n",
              "      <td>3.0700</td>\n",
              "      <td>3.070</td>\n",
              "      <td>3.0700</td>\n",
              "      <td>3.07</td>\n",
              "      <td>1.0</td>\n",
              "      <td>17.400000</td>\n",
              "      <td>NaN</td>\n",
              "      <td>17.40</td>\n",
              "      <td>17.40</td>\n",
              "      <td>17.40</td>\n",
              "      <td>17.40</td>\n",
              "      <td>17.40</td>\n",
              "    </tr>\n",
              "    <tr>\n",
              "      <th>5.250</th>\n",
              "      <td>1.0</td>\n",
              "      <td>2.930000</td>\n",
              "      <td>NaN</td>\n",
              "      <td>2.93</td>\n",
              "      <td>2.9300</td>\n",
              "      <td>2.930</td>\n",
              "      <td>2.9300</td>\n",
              "      <td>2.93</td>\n",
              "      <td>1.0</td>\n",
              "      <td>17.980000</td>\n",
              "      <td>NaN</td>\n",
              "      <td>17.98</td>\n",
              "      <td>17.98</td>\n",
              "      <td>17.98</td>\n",
              "      <td>17.98</td>\n",
              "      <td>17.98</td>\n",
              "    </tr>\n",
              "    <tr>\n",
              "      <th>5.345</th>\n",
              "      <td>1.0</td>\n",
              "      <td>3.230000</td>\n",
              "      <td>NaN</td>\n",
              "      <td>3.23</td>\n",
              "      <td>3.2300</td>\n",
              "      <td>3.230</td>\n",
              "      <td>3.2300</td>\n",
              "      <td>3.23</td>\n",
              "      <td>1.0</td>\n",
              "      <td>17.420000</td>\n",
              "      <td>NaN</td>\n",
              "      <td>17.42</td>\n",
              "      <td>17.42</td>\n",
              "      <td>17.42</td>\n",
              "      <td>17.42</td>\n",
              "      <td>17.42</td>\n",
              "    </tr>\n",
              "    <tr>\n",
              "      <th>5.424</th>\n",
              "      <td>1.0</td>\n",
              "      <td>3.000000</td>\n",
              "      <td>NaN</td>\n",
              "      <td>3.00</td>\n",
              "      <td>3.0000</td>\n",
              "      <td>3.000</td>\n",
              "      <td>3.0000</td>\n",
              "      <td>3.00</td>\n",
              "      <td>1.0</td>\n",
              "      <td>17.820000</td>\n",
              "      <td>NaN</td>\n",
              "      <td>17.82</td>\n",
              "      <td>17.82</td>\n",
              "      <td>17.82</td>\n",
              "      <td>17.82</td>\n",
              "      <td>17.82</td>\n",
              "    </tr>\n",
              "  </tbody>\n",
              "</table>\n",
              "</div>"
            ],
            "text/plain": [
              "      Points                                                        Weigh  \\\n",
              "       count      mean       std   min     25%    50%     75%   max count   \n",
              "Score                                                                       \n",
              "1.513    1.0  3.770000       NaN  3.77  3.7700  3.770  3.7700  3.77   1.0   \n",
              "1.615    1.0  4.930000       NaN  4.93  4.9300  4.930  4.9300  4.93   1.0   \n",
              "1.835    1.0  4.220000       NaN  4.22  4.2200  4.220  4.2200  4.22   1.0   \n",
              "1.935    1.0  4.080000       NaN  4.08  4.0800  4.080  4.0800  4.08   1.0   \n",
              "2.140    1.0  4.430000       NaN  4.43  4.4300  4.430  4.4300  4.43   1.0   \n",
              "2.200    1.0  4.080000       NaN  4.08  4.0800  4.080  4.0800  4.08   1.0   \n",
              "2.320    1.0  3.850000       NaN  3.85  3.8500  3.850  3.8500  3.85   1.0   \n",
              "2.465    1.0  3.700000       NaN  3.70  3.7000  3.700  3.7000  3.70   1.0   \n",
              "2.620    1.0  3.900000       NaN  3.90  3.9000  3.900  3.9000  3.90   1.0   \n",
              "2.770    1.0  3.620000       NaN  3.62  3.6200  3.620  3.6200  3.62   1.0   \n",
              "2.780    1.0  4.110000       NaN  4.11  4.1100  4.110  4.1100  4.11   1.0   \n",
              "2.875    1.0  3.900000       NaN  3.90  3.9000  3.900  3.9000  3.90   1.0   \n",
              "3.150    1.0  3.920000       NaN  3.92  3.9200  3.920  3.9200  3.92   1.0   \n",
              "3.170    1.0  4.220000       NaN  4.22  4.2200  4.220  4.2200  4.22   1.0   \n",
              "3.190    1.0  3.690000       NaN  3.69  3.6900  3.690  3.6900  3.69   1.0   \n",
              "3.215    1.0  3.080000       NaN  3.08  3.0800  3.080  3.0800  3.08   1.0   \n",
              "3.435    1.0  3.150000       NaN  3.15  3.1500  3.150  3.1500  3.15   1.0   \n",
              "3.440    3.0  3.663333  0.444560  3.15  3.5350  3.920  3.9200  3.92   3.0   \n",
              "3.460    1.0  2.760000       NaN  2.76  2.7600  2.760  2.7600  2.76   1.0   \n",
              "3.520    1.0  2.760000       NaN  2.76  2.7600  2.760  2.7600  2.76   1.0   \n",
              "3.570    2.0  3.375000  0.233345  3.21  3.2925  3.375  3.4575  3.54   2.0   \n",
              "3.730    1.0  3.070000       NaN  3.07  3.0700  3.070  3.0700  3.07   1.0   \n",
              "3.780    1.0  3.070000       NaN  3.07  3.0700  3.070  3.0700  3.07   1.0   \n",
              "3.840    1.0  3.730000       NaN  3.73  3.7300  3.730  3.7300  3.73   1.0   \n",
              "3.845    1.0  3.080000       NaN  3.08  3.0800  3.080  3.0800  3.08   1.0   \n",
              "4.070    1.0  3.070000       NaN  3.07  3.0700  3.070  3.0700  3.07   1.0   \n",
              "5.250    1.0  2.930000       NaN  2.93  2.9300  2.930  2.9300  2.93   1.0   \n",
              "5.345    1.0  3.230000       NaN  3.23  3.2300  3.230  3.2300  3.23   1.0   \n",
              "5.424    1.0  3.000000       NaN  3.00  3.0000  3.000  3.0000  3.00   1.0   \n",
              "\n",
              "                                                               \n",
              "            mean       std    min    25%    50%    75%    max  \n",
              "Score                                                          \n",
              "1.513  16.900000       NaN  16.90  16.90  16.90  16.90  16.90  \n",
              "1.615  18.520000       NaN  18.52  18.52  18.52  18.52  18.52  \n",
              "1.835  19.900000       NaN  19.90  19.90  19.90  19.90  19.90  \n",
              "1.935  18.900000       NaN  18.90  18.90  18.90  18.90  18.90  \n",
              "2.140  16.700000       NaN  16.70  16.70  16.70  16.70  16.70  \n",
              "2.200  19.470000       NaN  19.47  19.47  19.47  19.47  19.47  \n",
              "2.320  18.610000       NaN  18.61  18.61  18.61  18.61  18.61  \n",
              "2.465  20.010000       NaN  20.01  20.01  20.01  20.01  20.01  \n",
              "2.620  16.460000       NaN  16.46  16.46  16.46  16.46  16.46  \n",
              "2.770  15.500000       NaN  15.50  15.50  15.50  15.50  15.50  \n",
              "2.780  18.600000       NaN  18.60  18.60  18.60  18.60  18.60  \n",
              "2.875  17.020000       NaN  17.02  17.02  17.02  17.02  17.02  \n",
              "3.150  22.900000       NaN  22.90  22.90  22.90  22.90  22.90  \n",
              "3.170  14.500000       NaN  14.50  14.50  14.50  14.50  14.50  \n",
              "3.190  20.000000       NaN  20.00  20.00  20.00  20.00  20.00  \n",
              "3.215  19.440000       NaN  19.44  19.44  19.44  19.44  19.44  \n",
              "3.435  17.300000       NaN  17.30  17.30  17.30  17.30  17.30  \n",
              "3.440  18.073333  0.960278  17.02  17.66  18.30  18.60  18.90  \n",
              "3.460  20.220000       NaN  20.22  20.22  20.22  20.22  20.22  \n",
              "3.520  16.870000       NaN  16.87  16.87  16.87  16.87  16.87  \n",
              "3.570  15.220000  0.876812  14.60  14.91  15.22  15.53  15.84  \n",
              "3.730  17.600000       NaN  17.60  17.60  17.60  17.60  17.60  \n",
              "3.780  18.000000       NaN  18.00  18.00  18.00  18.00  18.00  \n",
              "3.840  15.410000       NaN  15.41  15.41  15.41  15.41  15.41  \n",
              "3.845  17.050000       NaN  17.05  17.05  17.05  17.05  17.05  \n",
              "4.070  17.400000       NaN  17.40  17.40  17.40  17.40  17.40  \n",
              "5.250  17.980000       NaN  17.98  17.98  17.98  17.98  17.98  \n",
              "5.345  17.420000       NaN  17.42  17.42  17.42  17.42  17.42  \n",
              "5.424  17.820000       NaN  17.82  17.82  17.82  17.82  17.82  "
            ]
          },
          "execution_count": 18,
          "metadata": {},
          "output_type": "execute_result"
        }
      ],
      "source": [
        "df.groupby([\"Score\"]).describe()"
      ]
    },
    {
      "cell_type": "code",
      "execution_count": null,
      "id": "1ee62a44",
      "metadata": {
        "id": "1ee62a44",
        "outputId": "e93e5e93-e794-4240-ca5d-7cde1ba47fd3"
      },
      "outputs": [
        {
          "data": {
            "text/plain": [
              "Unnamed: 0    0\n",
              "Points        0\n",
              "Score         0\n",
              "Weigh         0\n",
              "dtype: int64"
            ]
          },
          "execution_count": 19,
          "metadata": {},
          "output_type": "execute_result"
        }
      ],
      "source": [
        "df.isna().sum()"
      ]
    },
    {
      "cell_type": "code",
      "execution_count": null,
      "id": "aa3ad934",
      "metadata": {
        "id": "aa3ad934"
      },
      "outputs": [],
      "source": [
        "import matplotlib.pyplot as plt\n",
        "import seaborn as sns"
      ]
    },
    {
      "cell_type": "code",
      "execution_count": null,
      "id": "70a4dd28",
      "metadata": {
        "id": "70a4dd28",
        "outputId": "21c29f2f-a81c-482a-c137-28be0f4ad3e5"
      },
      "outputs": [
        {
          "data": {
            "image/png": "[encoded data removed]",
            "text/plain": [
              "<Figure size 1080x360 with 3 Axes>"
            ]
          },
          "metadata": {
            "needs_background": "light"
          },
          "output_type": "display_data"
        }
      ],
      "source": [
        "f,ax=plt.subplots(figsize=(15,5))\n",
        "plt.subplot(1,3,1)\n",
        "plt.boxplot(df.Points)\n",
        "plt.title('Points')\n",
        "plt.subplot(1,3,2)\n",
        "plt.boxplot(df.Score)\n",
        "plt.title('Score')\n",
        "plt.subplot(1,3,3)\n",
        "plt.boxplot(df.Weigh)\n",
        "plt.title('Weigh')\n",
        "plt.show()"
      ]
    },
    {
      "cell_type": "code",
      "execution_count": null,
      "id": "00d83d9c",
      "metadata": {
        "id": "00d83d9c",
        "outputId": "106e7793-5718-4c18-ad05-11f2898b2052"
      },
      "outputs": [
        {
          "data": {
            "text/plain": [
              "<seaborn.axisgrid.FacetGrid at 0xb8507c0>"
            ]
          },
          "execution_count": 26,
          "metadata": {},
          "output_type": "execute_result"
        },
        {
          "data": {
            "image/png": "[encoded data removed]",
            "text/plain": [
              "<Figure size 360x360 with 1 Axes>"
            ]
          },
          "metadata": {
            "needs_background": "light"
          },
          "output_type": "display_data"
        }
      ],
      "source": [
        "sns.displot(x=\"Points\",data=df,bins=20)"
      ]
    },
    {
      "cell_type": "code",
      "execution_count": null,
      "id": "d30645d1",
      "metadata": {
        "id": "d30645d1",
        "outputId": "eeb3ab78-7815-4ac9-8095-013f076525b6"
      },
      "outputs": [
        {
          "data": {
            "text/plain": [
              "(array([3., 8., 2., 2., 4., 6., 5., 1., 0., 1.]),\n",
              " array([2.76 , 2.977, 3.194, 3.411, 3.628, 3.845, 4.062, 4.279, 4.496,\n",
              "        4.713, 4.93 ]),\n",
              " <BarContainer object of 10 artists>)"
            ]
          },
          "execution_count": 27,
          "metadata": {},
          "output_type": "execute_result"
        },
        {
          "data": {
            "image/png": "[encoded data removed]",
            "text/plain": [
              "<Figure size 432x288 with 1 Axes>"
            ]
          },
          "metadata": {
            "needs_background": "light"
          },
          "output_type": "display_data"
        }
      ],
      "source": [
        "plt.hist(df.Points,bins=10,edgecolor=\"blue\",facecolor=\"black\")"
      ]
    },
    {
      "cell_type": "markdown",
      "id": "1055549c",
      "metadata": {
        "id": "1055549c"
      },
      "source": [
        "Q8"
      ]
    },
    {
      "cell_type": "code",
      "execution_count": null,
      "id": "4ee8a479",
      "metadata": {
        "id": "4ee8a479"
      },
      "outputs": [],
      "source": [
        "import numpy as np\n",
        "Q8=np.array([108, 110, 123, 134, 135, 145, 167, 187, 199])"
      ]
    },
    {
      "cell_type": "code",
      "execution_count": null,
      "id": "d2dd19da",
      "metadata": {
        "id": "d2dd19da",
        "outputId": "7849638f-4e73-4637-f783-a58844008ea9"
      },
      "outputs": [
        {
          "data": {
            "text/plain": [
              "145.33333333333334"
            ]
          },
          "execution_count": 29,
          "metadata": {},
          "output_type": "execute_result"
        }
      ],
      "source": [
        "Q8.mean()"
      ]
    },
    {
      "cell_type": "markdown",
      "id": "acba2fb7",
      "metadata": {
        "id": "acba2fb7"
      },
      "source": [
        "Q9"
      ]
    },
    {
      "cell_type": "code",
      "execution_count": null,
      "id": "d3522929",
      "metadata": {
        "id": "d3522929"
      },
      "outputs": [],
      "source": [
        "Q11"
      ]
    },
    {
      "cell_type": "code",
      "execution_count": null,
      "id": "afa29601",
      "metadata": {
        "id": "afa29601"
      },
      "outputs": [],
      "source": [
        "import numpy as np\n",
        "import pandas as pd\n",
        "from scipy import stats\n",
        "from scipy.stats import norm"
      ]
    },
    {
      "cell_type": "code",
      "execution_count": null,
      "id": "6d96adad",
      "metadata": {
        "id": "6d96adad",
        "outputId": "6d3412c9-47c6-4ecc-a515-84ea4a992687"
      },
      "outputs": [
        {
          "data": {
            "text/plain": [
              "(198.738325292158, 201.261674707842)"
            ]
          },
          "execution_count": 54,
          "metadata": {},
          "output_type": "execute_result"
        }
      ],
      "source": [
        "stats.norm.interval(0.94,200,30/(2000**0.5))"
      ]
    },
    {
      "cell_type": "code",
      "execution_count": null,
      "id": "3447fe8c",
      "metadata": {
        "id": "3447fe8c",
        "outputId": "6d23ad4b-87c7-4ccf-98aa-32e322a790d3"
      },
      "outputs": [
        {
          "data": {
            "text/plain": [
              "(198.43943840429978, 201.56056159570022)"
            ]
          },
          "execution_count": 55,
          "metadata": {},
          "output_type": "execute_result"
        }
      ],
      "source": [
        "stats.norm.interval(0.98,200,30/(2000**0.5))"
      ]
    },
    {
      "cell_type": "code",
      "execution_count": null,
      "id": "2a9a2624",
      "metadata": {
        "id": "2a9a2624",
        "outputId": "48780eb1-9b1d-4906-f199-e5d32e406288"
      },
      "outputs": [
        {
          "data": {
            "text/plain": [
              "(198.62230334813333, 201.37769665186667)"
            ]
          },
          "execution_count": 56,
          "metadata": {},
          "output_type": "execute_result"
        }
      ],
      "source": [
        "stats.norm.interval(0.96,200,30/2000**0.5)"
      ]
    },
    {
      "cell_type": "markdown",
      "source": [
        "Q12"
      ],
      "metadata": {
        "id": "1yPjkviFRKqz"
      },
      "id": "1yPjkviFRKqz"
    },
    {
      "cell_type": "markdown",
      "source": [],
      "metadata": {
        "id": "eyz0TvrXRGbi"
      },
      "id": "eyz0TvrXRGbi"
    },
    {
      "cell_type": "code",
      "execution_count": null,
      "id": "728f41cb",
      "metadata": {
        "id": "728f41cb"
      },
      "outputs": [],
      "source": [
        "import pandas as pd\n",
        "import numpy as np\n",
        "import matplotlib.pyplot as plt\n",
        "import seaborn as sns\n",
        "import warnings\n",
        "warnings.filterwarnings('ignore')"
      ]
    },
    {
      "cell_type": "code",
      "execution_count": null,
      "id": "3e3ea110",
      "metadata": {
        "id": "3e3ea110"
      },
      "outputs": [],
      "source": [
        "Q12=pd.Series([34,36,36,38,38,39,39,40,40,41,41,41,41,42,42,45,49,56])"
      ]
    },
    {
      "cell_type": "code",
      "execution_count": null,
      "id": "a9bf0c3b",
      "metadata": {
        "colab": {
          "base_uri": "https://localhost:8080/"
        },
        "id": "a9bf0c3b",
        "outputId": "ffd01d4a-2b38-467e-ec0d-ce5e0d3b8ef2"
      },
      "outputs": [
        {
          "output_type": "execute_result",
          "data": {
            "text/plain": [
              "41.0"
            ]
          },
          "metadata": {},
          "execution_count": 31
        }
      ],
      "source": [
        "Q12.mean()"
      ]
    },
    {
      "cell_type": "code",
      "execution_count": null,
      "id": "c7515825",
      "metadata": {
        "colab": {
          "base_uri": "https://localhost:8080/"
        },
        "id": "c7515825",
        "outputId": "7bc22654-d5c4-4a40-e3b7-cd44e9b85759"
      },
      "outputs": [
        {
          "output_type": "execute_result",
          "data": {
            "text/plain": [
              "count    18.000000\n",
              "mean     41.000000\n",
              "std       5.052664\n",
              "min      34.000000\n",
              "25%      38.250000\n",
              "50%      40.500000\n",
              "75%      41.750000\n",
              "max      56.000000\n",
              "dtype: float64"
            ]
          },
          "metadata": {},
          "execution_count": 32
        }
      ],
      "source": [
        "Q12.describe()"
      ]
    },
    {
      "cell_type": "code",
      "execution_count": null,
      "id": "598acaec",
      "metadata": {
        "colab": {
          "base_uri": "https://localhost:8080/"
        },
        "id": "598acaec",
        "outputId": "62ea2b25-6644-497e-8453-9daa905190b2"
      },
      "outputs": [
        {
          "output_type": "execute_result",
          "data": {
            "text/plain": [
              "25.529411764705884"
            ]
          },
          "metadata": {},
          "execution_count": 33
        }
      ],
      "source": [
        "Q12.var()"
      ]
    },
    {
      "cell_type": "code",
      "execution_count": null,
      "id": "5f15a6da",
      "metadata": {
        "colab": {
          "base_uri": "https://localhost:8080/"
        },
        "id": "5f15a6da",
        "outputId": "e7d03152-4210-4f3c-be2f-f97b0e4c77a9"
      },
      "outputs": [
        {
          "output_type": "execute_result",
          "data": {
            "text/plain": [
              "56"
            ]
          },
          "metadata": {},
          "execution_count": 34
        }
      ],
      "source": [
        "Q12.max()"
      ]
    },
    {
      "cell_type": "code",
      "execution_count": null,
      "id": "92256512",
      "metadata": {
        "colab": {
          "base_uri": "https://localhost:8080/"
        },
        "id": "92256512",
        "outputId": "edede417-6b8e-4c8f-d08c-fa4f7946c369"
      },
      "outputs": [
        {
          "output_type": "execute_result",
          "data": {
            "text/plain": [
              "34"
            ]
          },
          "metadata": {},
          "execution_count": 35
        }
      ],
      "source": [
        "Q12.min()"
      ]
    },
    {
      "cell_type": "code",
      "execution_count": null,
      "id": "bef155a9",
      "metadata": {
        "colab": {
          "base_uri": "https://localhost:8080/",
          "height": 890
        },
        "id": "bef155a9",
        "outputId": "ea8dc942-c168-434c-b567-d6a67c014400"
      },
      "outputs": [
        {
          "output_type": "execute_result",
          "data": {
            "text/plain": [
              "{'whiskers': [<matplotlib.lines.Line2D at 0x7f08b455dd60>,\n",
              "  <matplotlib.lines.Line2D at 0x7f08b456f070>,\n",
              "  <matplotlib.lines.Line2D at 0x7f08b4578190>,\n",
              "  <matplotlib.lines.Line2D at 0x7f08b4578460>,\n",
              "  <matplotlib.lines.Line2D at 0x7f08b4588580>,\n",
              "  <matplotlib.lines.Line2D at 0x7f08b4588850>,\n",
              "  <matplotlib.lines.Line2D at 0x7f08b4517970>,\n",
              "  <matplotlib.lines.Line2D at 0x7f08b4517c40>,\n",
              "  <matplotlib.lines.Line2D at 0x7f08b4523d60>,\n",
              "  <matplotlib.lines.Line2D at 0x7f08b4531070>],\n",
              " 'caps': [<matplotlib.lines.Line2D at 0x7f08b456f340>,\n",
              "  <matplotlib.lines.Line2D at 0x7f08b456f610>,\n",
              "  <matplotlib.lines.Line2D at 0x7f08b4578730>,\n",
              "  <matplotlib.lines.Line2D at 0x7f08b4578a00>,\n",
              "  <matplotlib.lines.Line2D at 0x7f08b4588b20>,\n",
              "  <matplotlib.lines.Line2D at 0x7f08b4588df0>,\n",
              "  <matplotlib.lines.Line2D at 0x7f08b4517f10>,\n",
              "  <matplotlib.lines.Line2D at 0x7f08b4523220>,\n",
              "  <matplotlib.lines.Line2D at 0x7f08b4531340>,\n",
              "  <matplotlib.lines.Line2D at 0x7f08b4531610>],\n",
              " 'boxes': [<matplotlib.lines.Line2D at 0x7f08b455da90>,\n",
              "  <matplotlib.lines.Line2D at 0x7f08b456fe80>,\n",
              "  <matplotlib.lines.Line2D at 0x7f08b45882b0>,\n",
              "  <matplotlib.lines.Line2D at 0x7f08b45176a0>,\n",
              "  <matplotlib.lines.Line2D at 0x7f08b4523a90>],\n",
              " 'medians': [<matplotlib.lines.Line2D at 0x7f08b456f8e0>,\n",
              "  <matplotlib.lines.Line2D at 0x7f08b4578cd0>,\n",
              "  <matplotlib.lines.Line2D at 0x7f08b4517100>,\n",
              "  <matplotlib.lines.Line2D at 0x7f08b45234f0>,\n",
              "  <matplotlib.lines.Line2D at 0x7f08b45318e0>],\n",
              " 'fliers': [<matplotlib.lines.Line2D at 0x7f08b456fbb0>,\n",
              "  <matplotlib.lines.Line2D at 0x7f08b4578fa0>,\n",
              "  <matplotlib.lines.Line2D at 0x7f08b45173d0>,\n",
              "  <matplotlib.lines.Line2D at 0x7f08b45237c0>,\n",
              "  <matplotlib.lines.Line2D at 0x7f08b4531bb0>],\n",
              " 'means': []}"
            ]
          },
          "metadata": {},
          "execution_count": 36
        },
        {
          "output_type": "display_data",
          "data": {
            "text/plain": [
              "<Figure size 432x288 with 1 Axes>"
            ],
            "image/png": "[encoded data removed]"
          },
          "metadata": {
            "needs_background": "light"
          }
        }
      ],
      "source": [
        "plt.boxplot(df)"
      ]
    },
    {
      "cell_type": "markdown",
      "source": [
        "Q21.A"
      ],
      "metadata": {
        "id": "tWXSrWQ2X9Cr"
      },
      "id": "tWXSrWQ2X9Cr"
    },
    {
      "cell_type": "code",
      "source": [
        "import pandas as pd\n",
        "import numpy as np\n",
        "import matplotlib.pyplot as plt\n",
        "import seaborn as sns\n",
        "import warnings\n",
        "warnings.filterwarnings('ignore')"
      ],
      "metadata": {
        "id": "ff6jlE1JX-23"
      },
      "id": "ff6jlE1JX-23",
      "execution_count": null,
      "outputs": []
    },
    {
      "cell_type": "code",
      "source": [
        "df=pd.read_csv(\"Cars.csv\")\n",
        "df.head(4)"
      ],
      "metadata": {
        "colab": {
          "base_uri": "https://localhost:8080/",
          "height": 175
        },
        "id": "phonJZDzYQ9_",
        "outputId": "e0c9145f-d577-470a-e3be-9db2eedfc0db"
      },
      "id": "phonJZDzYQ9_",
      "execution_count": null,
      "outputs": [
        {
          "output_type": "execute_result",
          "data": {
            "text/plain": [
              "   HP        MPG  VOL          SP         WT\n",
              "0  49  53.700681   89  104.185353  28.762059\n",
              "1  55  50.013401   92  105.461264  30.466833\n",
              "2  55  50.013401   92  105.461264  30.193597\n",
              "3  70  45.696322   92  113.461264  30.632114"
            ],
            "text/html": [
              "\n",
              "  <div id=\"df-f75a955c-5cee-49f7-9cb2-8da3e83453ca\">\n",
              "    <div class=\"colab-df-container\">\n",
              "      <div>\n",
              "<style scoped>\n",
              "    .dataframe tbody tr th:only-of-type {\n",
              "        vertical-align: middle;\n",
              "    }\n",
              "\n",
              "    .dataframe tbody tr th {\n",
              "        vertical-align: top;\n",
              "    }\n",
              "\n",
              "    .dataframe thead th {\n",
              "        text-align: right;\n",
              "    }\n",
              "</style>\n",
              "<table border=\"1\" class=\"dataframe\">\n",
              "  <thead>\n",
              "    <tr style=\"text-align: right;\">\n",
              "      <th></th>\n",
              "      <th>HP</th>\n",
              "      <th>MPG</th>\n",
              "      <th>VOL</th>\n",
              "      <th>SP</th>\n",
              "      <th>WT</th>\n",
              "    </tr>\n",
              "  </thead>\n",
              "  <tbody>\n",
              "    <tr>\n",
              "      <th>0</th>\n",
              "      <td>49</td>\n",
              "      <td>53.700681</td>\n",
              "      <td>89</td>\n",
              "      <td>104.185353</td>\n",
              "      <td>28.762059</td>\n",
              "    </tr>\n",
              "    <tr>\n",
              "      <th>1</th>\n",
              "      <td>55</td>\n",
              "      <td>50.013401</td>\n",
              "      <td>92</td>\n",
              "      <td>105.461264</td>\n",
              "      <td>30.466833</td>\n",
              "    </tr>\n",
              "    <tr>\n",
              "      <th>2</th>\n",
              "      <td>55</td>\n",
              "      <td>50.013401</td>\n",
              "      <td>92</td>\n",
              "      <td>105.461264</td>\n",
              "      <td>30.193597</td>\n",
              "    </tr>\n",
              "    <tr>\n",
              "      <th>3</th>\n",
              "      <td>70</td>\n",
              "      <td>45.696322</td>\n",
              "      <td>92</td>\n",
              "      <td>113.461264</td>\n",
              "      <td>30.632114</td>\n",
              "    </tr>\n",
              "  </tbody>\n",
              "</table>\n",
              "</div>\n",
              "      <button class=\"colab-df-convert\" onclick=\"convertToInteractive('df-f75a955c-5cee-49f7-9cb2-8da3e83453ca')\"\n",
              "              title=\"Convert this dataframe to an interactive table.\"\n",
              "              style=\"display:none;\">\n",
              "        \n",
              "  <svg xmlns=\"http://www.w3.org/2000/svg\" height=\"24px\"viewBox=\"0 0 24 24\"\n",
              "       width=\"24px\">\n",
              "    <path d=\"M0 0h24v24H0V0z\" fill=\"none\"/>\n",
              "    <path d=\"M18.56 5.44l.94 2.06.94-2.06 2.06-.94-2.06-.94-.94-2.06-.94 2.06-2.06.94zm-11 1L8.5 8.5l.94-2.06 2.06-.94-2.06-.94L8.5 2.5l-.94 2.06-2.06.94zm10 10l.94 2.06.94-2.06 2.06-.94-2.06-.94-.94-2.06-.94 2.06-2.06.94z\"/><path d=\"M17.41 7.96l-1.37-1.37c-.4-.4-.92-.59-1.43-.59-.52 0-1.04.2-1.43.59L10.3 9.45l-7.72 7.72c-.78.78-.78 2.05 0 2.83L4 21.41c.39.39.9.59 1.41.59.51 0 1.02-.2 1.41-.59l7.78-7.78 2.81-2.81c.8-.78.8-2.07 0-2.86zM5.41 20L4 18.59l7.72-7.72 1.47 1.35L5.41 20z\"/>\n",
              "  </svg>\n",
              "      </button>\n",
              "      \n",
              "  <style>\n",
              "    .colab-df-container {\n",
              "      display:flex;\n",
              "      flex-wrap:wrap;\n",
              "      gap: 12px;\n",
              "    }\n",
              "\n",
              "    .colab-df-convert {\n",
              "      background-color: #E8F0FE;\n",
              "      border: none;\n",
              "      border-radius: 50%;\n",
              "      cursor: pointer;\n",
              "      display: none;\n",
              "      fill: #1967D2;\n",
              "      height: 32px;\n",
              "      padding: 0 0 0 0;\n",
              "      width: 32px;\n",
              "    }\n",
              "\n",
              "    .colab-df-convert:hover {\n",
              "      background-color: #E2EBFA;\n",
              "      box-shadow: 0px 1px 2px rgba(60, 64, 67, 0.3), 0px 1px 3px 1px rgba(60, 64, 67, 0.15);\n",
              "      fill: #174EA6;\n",
              "    }\n",
              "\n",
              "    [theme=dark] .colab-df-convert {\n",
              "      background-color: #3B4455;\n",
              "      fill: #D2E3FC;\n",
              "    }\n",
              "\n",
              "    [theme=dark] .colab-df-convert:hover {\n",
              "      background-color: #434B5C;\n",
              "      box-shadow: 0px 1px 3px 1px rgba(0, 0, 0, 0.15);\n",
              "      filter: drop-shadow(0px 1px 2px rgba(0, 0, 0, 0.3));\n",
              "      fill: #FFFFFF;\n",
              "    }\n",
              "  </style>\n",
              "\n",
              "      <script>\n",
              "        const buttonEl =\n",
              "          document.querySelector('#df-f75a955c-5cee-49f7-9cb2-8da3e83453ca button.colab-df-convert');\n",
              "        buttonEl.style.display =\n",
              "          google.colab.kernel.accessAllowed ? 'block' : 'none';\n",
              "\n",
              "        async function convertToInteractive(key) {\n",
              "          const element = document.querySelector('#df-f75a955c-5cee-49f7-9cb2-8da3e83453ca');\n",
              "          const dataTable =\n",
              "            await google.colab.kernel.invokeFunction('convertToInteractive',\n",
              "                                                     [key], {});\n",
              "          if (!dataTable) return;\n",
              "\n",
              "          const docLinkHtml = 'Like what you see? Visit the ' +\n",
              "            '<a target=\"_blank\" href=https://colab.research.google.com/notebooks/data_table.ipynb>data table notebook</a>'\n",
              "            + ' to learn more about interactive tables.';\n",
              "          element.innerHTML = '';\n",
              "          dataTable['output_type'] = 'display_data';\n",
              "          await google.colab.output.renderOutput(dataTable, element);\n",
              "          const docLink = document.createElement('div');\n",
              "          docLink.innerHTML = docLinkHtml;\n",
              "          element.appendChild(docLink);\n",
              "        }\n",
              "      </script>\n",
              "    </div>\n",
              "  </div>\n",
              "  "
            ]
          },
          "metadata": {},
          "execution_count": 75
        }
      ]
    },
    {
      "cell_type": "code",
      "source": [
        "df.tail(4)"
      ],
      "metadata": {
        "colab": {
          "base_uri": "https://localhost:8080/",
          "height": 175
        },
        "id": "O7JIUSLSYW71",
        "outputId": "495ce571-0edb-4bdb-f915-1d04787e9d4b"
      },
      "id": "O7JIUSLSYW71",
      "execution_count": null,
      "outputs": [
        {
          "output_type": "execute_result",
          "data": {
            "text/plain": [
              "     HP        MPG  VOL          SP         WT\n",
              "77  238  19.197888  115  150.576579  37.923113\n",
              "78  263  34.000000   50  151.598513  15.769625\n",
              "79  295  19.833733  119  167.944460  39.423099\n",
              "80  236  12.101263  107  139.840817  34.948615"
            ],
            "text/html": [
              "\n",
              "  <div id=\"df-6305d5b3-9a78-4dc2-b7fa-a126a8f6eaa6\">\n",
              "    <div class=\"colab-df-container\">\n",
              "      <div>\n",
              "<style scoped>\n",
              "    .dataframe tbody tr th:only-of-type {\n",
              "        vertical-align: middle;\n",
              "    }\n",
              "\n",
              "    .dataframe tbody tr th {\n",
              "        vertical-align: top;\n",
              "    }\n",
              "\n",
              "    .dataframe thead th {\n",
              "        text-align: right;\n",
              "    }\n",
              "</style>\n",
              "<table border=\"1\" class=\"dataframe\">\n",
              "  <thead>\n",
              "    <tr style=\"text-align: right;\">\n",
              "      <th></th>\n",
              "      <th>HP</th>\n",
              "      <th>MPG</th>\n",
              "      <th>VOL</th>\n",
              "      <th>SP</th>\n",
              "      <th>WT</th>\n",
              "    </tr>\n",
              "  </thead>\n",
              "  <tbody>\n",
              "    <tr>\n",
              "      <th>77</th>\n",
              "      <td>238</td>\n",
              "      <td>19.197888</td>\n",
              "      <td>115</td>\n",
              "      <td>150.576579</td>\n",
              "      <td>37.923113</td>\n",
              "    </tr>\n",
              "    <tr>\n",
              "      <th>78</th>\n",
              "      <td>263</td>\n",
              "      <td>34.000000</td>\n",
              "      <td>50</td>\n",
              "      <td>151.598513</td>\n",
              "      <td>15.769625</td>\n",
              "    </tr>\n",
              "    <tr>\n",
              "      <th>79</th>\n",
              "      <td>295</td>\n",
              "      <td>19.833733</td>\n",
              "      <td>119</td>\n",
              "      <td>167.944460</td>\n",
              "      <td>39.423099</td>\n",
              "    </tr>\n",
              "    <tr>\n",
              "      <th>80</th>\n",
              "      <td>236</td>\n",
              "      <td>12.101263</td>\n",
              "      <td>107</td>\n",
              "      <td>139.840817</td>\n",
              "      <td>34.948615</td>\n",
              "    </tr>\n",
              "  </tbody>\n",
              "</table>\n",
              "</div>\n",
              "      <button class=\"colab-df-convert\" onclick=\"convertToInteractive('df-6305d5b3-9a78-4dc2-b7fa-a126a8f6eaa6')\"\n",
              "              title=\"Convert this dataframe to an interactive table.\"\n",
              "              style=\"display:none;\">\n",
              "        \n",
              "  <svg xmlns=\"http://www.w3.org/2000/svg\" height=\"24px\"viewBox=\"0 0 24 24\"\n",
              "       width=\"24px\">\n",
              "    <path d=\"M0 0h24v24H0V0z\" fill=\"none\"/>\n",
              "    <path d=\"M18.56 5.44l.94 2.06.94-2.06 2.06-.94-2.06-.94-.94-2.06-.94 2.06-2.06.94zm-11 1L8.5 8.5l.94-2.06 2.06-.94-2.06-.94L8.5 2.5l-.94 2.06-2.06.94zm10 10l.94 2.06.94-2.06 2.06-.94-2.06-.94-.94-2.06-.94 2.06-2.06.94z\"/><path d=\"M17.41 7.96l-1.37-1.37c-.4-.4-.92-.59-1.43-.59-.52 0-1.04.2-1.43.59L10.3 9.45l-7.72 7.72c-.78.78-.78 2.05 0 2.83L4 21.41c.39.39.9.59 1.41.59.51 0 1.02-.2 1.41-.59l7.78-7.78 2.81-2.81c.8-.78.8-2.07 0-2.86zM5.41 20L4 18.59l7.72-7.72 1.47 1.35L5.41 20z\"/>\n",
              "  </svg>\n",
              "      </button>\n",
              "      \n",
              "  <style>\n",
              "    .colab-df-container {\n",
              "      display:flex;\n",
              "      flex-wrap:wrap;\n",
              "      gap: 12px;\n",
              "    }\n",
              "\n",
              "    .colab-df-convert {\n",
              "      background-color: #E8F0FE;\n",
              "      border: none;\n",
              "      border-radius: 50%;\n",
              "      cursor: pointer;\n",
              "      display: none;\n",
              "      fill: #1967D2;\n",
              "      height: 32px;\n",
              "      padding: 0 0 0 0;\n",
              "      width: 32px;\n",
              "    }\n",
              "\n",
              "    .colab-df-convert:hover {\n",
              "      background-color: #E2EBFA;\n",
              "      box-shadow: 0px 1px 2px rgba(60, 64, 67, 0.3), 0px 1px 3px 1px rgba(60, 64, 67, 0.15);\n",
              "      fill: #174EA6;\n",
              "    }\n",
              "\n",
              "    [theme=dark] .colab-df-convert {\n",
              "      background-color: #3B4455;\n",
              "      fill: #D2E3FC;\n",
              "    }\n",
              "\n",
              "    [theme=dark] .colab-df-convert:hover {\n",
              "      background-color: #434B5C;\n",
              "      box-shadow: 0px 1px 3px 1px rgba(0, 0, 0, 0.15);\n",
              "      filter: drop-shadow(0px 1px 2px rgba(0, 0, 0, 0.3));\n",
              "      fill: #FFFFFF;\n",
              "    }\n",
              "  </style>\n",
              "\n",
              "      <script>\n",
              "        const buttonEl =\n",
              "          document.querySelector('#df-6305d5b3-9a78-4dc2-b7fa-a126a8f6eaa6 button.colab-df-convert');\n",
              "        buttonEl.style.display =\n",
              "          google.colab.kernel.accessAllowed ? 'block' : 'none';\n",
              "\n",
              "        async function convertToInteractive(key) {\n",
              "          const element = document.querySelector('#df-6305d5b3-9a78-4dc2-b7fa-a126a8f6eaa6');\n",
              "          const dataTable =\n",
              "            await google.colab.kernel.invokeFunction('convertToInteractive',\n",
              "                                                     [key], {});\n",
              "          if (!dataTable) return;\n",
              "\n",
              "          const docLinkHtml = 'Like what you see? Visit the ' +\n",
              "            '<a target=\"_blank\" href=https://colab.research.google.com/notebooks/data_table.ipynb>data table notebook</a>'\n",
              "            + ' to learn more about interactive tables.';\n",
              "          element.innerHTML = '';\n",
              "          dataTable['output_type'] = 'display_data';\n",
              "          await google.colab.output.renderOutput(dataTable, element);\n",
              "          const docLink = document.createElement('div');\n",
              "          docLink.innerHTML = docLinkHtml;\n",
              "          element.appendChild(docLink);\n",
              "        }\n",
              "      </script>\n",
              "    </div>\n",
              "  </div>\n",
              "  "
            ]
          },
          "metadata": {},
          "execution_count": 76
        }
      ]
    },
    {
      "cell_type": "code",
      "source": [
        "df.shape"
      ],
      "metadata": {
        "colab": {
          "base_uri": "https://localhost:8080/"
        },
        "id": "fmmbv_xIYbLK",
        "outputId": "b13104dd-8542-47ea-9afc-8fa8c0b310c5"
      },
      "id": "fmmbv_xIYbLK",
      "execution_count": null,
      "outputs": [
        {
          "output_type": "execute_result",
          "data": {
            "text/plain": [
              "(81, 5)"
            ]
          },
          "metadata": {},
          "execution_count": 77
        }
      ]
    },
    {
      "cell_type": "code",
      "source": [
        "df.isnull().sum()"
      ],
      "metadata": {
        "colab": {
          "base_uri": "https://localhost:8080/"
        },
        "id": "UdN_F1fmYcv_",
        "outputId": "dbcf5bd5-3d69-413f-b794-711ba8666720"
      },
      "id": "UdN_F1fmYcv_",
      "execution_count": null,
      "outputs": [
        {
          "output_type": "execute_result",
          "data": {
            "text/plain": [
              "HP     0\n",
              "MPG    0\n",
              "VOL    0\n",
              "SP     0\n",
              "WT     0\n",
              "dtype: int64"
            ]
          },
          "metadata": {},
          "execution_count": 78
        }
      ]
    },
    {
      "cell_type": "code",
      "source": [
        "df.describe()"
      ],
      "metadata": {
        "colab": {
          "base_uri": "https://localhost:8080/",
          "height": 300
        },
        "id": "-gBJoypLb89V",
        "outputId": "74cffc9c-437b-4baf-d83c-5383829fbaa8"
      },
      "id": "-gBJoypLb89V",
      "execution_count": null,
      "outputs": [
        {
          "output_type": "execute_result",
          "data": {
            "text/plain": [
              "               HP        MPG         VOL          SP         WT\n",
              "count   81.000000  81.000000   81.000000   81.000000  81.000000\n",
              "mean   117.469136  34.422076   98.765432  121.540272  32.412577\n",
              "std     57.113502   9.131445   22.301497   14.181432   7.492813\n",
              "min     49.000000  12.101263   50.000000   99.564907  15.712859\n",
              "25%     84.000000  27.856252   89.000000  113.829145  29.591768\n",
              "50%    100.000000  35.152727  101.000000  118.208698  32.734518\n",
              "75%    140.000000  39.531633  113.000000  126.404312  37.392524\n",
              "max    322.000000  53.700681  160.000000  169.598513  52.997752"
            ],
            "text/html": [
              "\n",
              "  <div id=\"df-d330b294-d6df-40ee-aa72-2a548d8df792\">\n",
              "    <div class=\"colab-df-container\">\n",
              "      <div>\n",
              "<style scoped>\n",
              "    .dataframe tbody tr th:only-of-type {\n",
              "        vertical-align: middle;\n",
              "    }\n",
              "\n",
              "    .dataframe tbody tr th {\n",
              "        vertical-align: top;\n",
              "    }\n",
              "\n",
              "    .dataframe thead th {\n",
              "        text-align: right;\n",
              "    }\n",
              "</style>\n",
              "<table border=\"1\" class=\"dataframe\">\n",
              "  <thead>\n",
              "    <tr style=\"text-align: right;\">\n",
              "      <th></th>\n",
              "      <th>HP</th>\n",
              "      <th>MPG</th>\n",
              "      <th>VOL</th>\n",
              "      <th>SP</th>\n",
              "      <th>WT</th>\n",
              "    </tr>\n",
              "  </thead>\n",
              "  <tbody>\n",
              "    <tr>\n",
              "      <th>count</th>\n",
              "      <td>81.000000</td>\n",
              "      <td>81.000000</td>\n",
              "      <td>81.000000</td>\n",
              "      <td>81.000000</td>\n",
              "      <td>81.000000</td>\n",
              "    </tr>\n",
              "    <tr>\n",
              "      <th>mean</th>\n",
              "      <td>117.469136</td>\n",
              "      <td>34.422076</td>\n",
              "      <td>98.765432</td>\n",
              "      <td>121.540272</td>\n",
              "      <td>32.412577</td>\n",
              "    </tr>\n",
              "    <tr>\n",
              "      <th>std</th>\n",
              "      <td>57.113502</td>\n",
              "      <td>9.131445</td>\n",
              "      <td>22.301497</td>\n",
              "      <td>14.181432</td>\n",
              "      <td>7.492813</td>\n",
              "    </tr>\n",
              "    <tr>\n",
              "      <th>min</th>\n",
              "      <td>49.000000</td>\n",
              "      <td>12.101263</td>\n",
              "      <td>50.000000</td>\n",
              "      <td>99.564907</td>\n",
              "      <td>15.712859</td>\n",
              "    </tr>\n",
              "    <tr>\n",
              "      <th>25%</th>\n",
              "      <td>84.000000</td>\n",
              "      <td>27.856252</td>\n",
              "      <td>89.000000</td>\n",
              "      <td>113.829145</td>\n",
              "      <td>29.591768</td>\n",
              "    </tr>\n",
              "    <tr>\n",
              "      <th>50%</th>\n",
              "      <td>100.000000</td>\n",
              "      <td>35.152727</td>\n",
              "      <td>101.000000</td>\n",
              "      <td>118.208698</td>\n",
              "      <td>32.734518</td>\n",
              "    </tr>\n",
              "    <tr>\n",
              "      <th>75%</th>\n",
              "      <td>140.000000</td>\n",
              "      <td>39.531633</td>\n",
              "      <td>113.000000</td>\n",
              "      <td>126.404312</td>\n",
              "      <td>37.392524</td>\n",
              "    </tr>\n",
              "    <tr>\n",
              "      <th>max</th>\n",
              "      <td>322.000000</td>\n",
              "      <td>53.700681</td>\n",
              "      <td>160.000000</td>\n",
              "      <td>169.598513</td>\n",
              "      <td>52.997752</td>\n",
              "    </tr>\n",
              "  </tbody>\n",
              "</table>\n",
              "</div>\n",
              "      <button class=\"colab-df-convert\" onclick=\"convertToInteractive('df-d330b294-d6df-40ee-aa72-2a548d8df792')\"\n",
              "              title=\"Convert this dataframe to an interactive table.\"\n",
              "              style=\"display:none;\">\n",
              "        \n",
              "  <svg xmlns=\"http://www.w3.org/2000/svg\" height=\"24px\"viewBox=\"0 0 24 24\"\n",
              "       width=\"24px\">\n",
              "    <path d=\"M0 0h24v24H0V0z\" fill=\"none\"/>\n",
              "    <path d=\"M18.56 5.44l.94 2.06.94-2.06 2.06-.94-2.06-.94-.94-2.06-.94 2.06-2.06.94zm-11 1L8.5 8.5l.94-2.06 2.06-.94-2.06-.94L8.5 2.5l-.94 2.06-2.06.94zm10 10l.94 2.06.94-2.06 2.06-.94-2.06-.94-.94-2.06-.94 2.06-2.06.94z\"/><path d=\"M17.41 7.96l-1.37-1.37c-.4-.4-.92-.59-1.43-.59-.52 0-1.04.2-1.43.59L10.3 9.45l-7.72 7.72c-.78.78-.78 2.05 0 2.83L4 21.41c.39.39.9.59 1.41.59.51 0 1.02-.2 1.41-.59l7.78-7.78 2.81-2.81c.8-.78.8-2.07 0-2.86zM5.41 20L4 18.59l7.72-7.72 1.47 1.35L5.41 20z\"/>\n",
              "  </svg>\n",
              "      </button>\n",
              "      \n",
              "  <style>\n",
              "    .colab-df-container {\n",
              "      display:flex;\n",
              "      flex-wrap:wrap;\n",
              "      gap: 12px;\n",
              "    }\n",
              "\n",
              "    .colab-df-convert {\n",
              "      background-color: #E8F0FE;\n",
              "      border: none;\n",
              "      border-radius: 50%;\n",
              "      cursor: pointer;\n",
              "      display: none;\n",
              "      fill: #1967D2;\n",
              "      height: 32px;\n",
              "      padding: 0 0 0 0;\n",
              "      width: 32px;\n",
              "    }\n",
              "\n",
              "    .colab-df-convert:hover {\n",
              "      background-color: #E2EBFA;\n",
              "      box-shadow: 0px 1px 2px rgba(60, 64, 67, 0.3), 0px 1px 3px 1px rgba(60, 64, 67, 0.15);\n",
              "      fill: #174EA6;\n",
              "    }\n",
              "\n",
              "    [theme=dark] .colab-df-convert {\n",
              "      background-color: #3B4455;\n",
              "      fill: #D2E3FC;\n",
              "    }\n",
              "\n",
              "    [theme=dark] .colab-df-convert:hover {\n",
              "      background-color: #434B5C;\n",
              "      box-shadow: 0px 1px 3px 1px rgba(0, 0, 0, 0.15);\n",
              "      filter: drop-shadow(0px 1px 2px rgba(0, 0, 0, 0.3));\n",
              "      fill: #FFFFFF;\n",
              "    }\n",
              "  </style>\n",
              "\n",
              "      <script>\n",
              "        const buttonEl =\n",
              "          document.querySelector('#df-d330b294-d6df-40ee-aa72-2a548d8df792 button.colab-df-convert');\n",
              "        buttonEl.style.display =\n",
              "          google.colab.kernel.accessAllowed ? 'block' : 'none';\n",
              "\n",
              "        async function convertToInteractive(key) {\n",
              "          const element = document.querySelector('#df-d330b294-d6df-40ee-aa72-2a548d8df792');\n",
              "          const dataTable =\n",
              "            await google.colab.kernel.invokeFunction('convertToInteractive',\n",
              "                                                     [key], {});\n",
              "          if (!dataTable) return;\n",
              "\n",
              "          const docLinkHtml = 'Like what you see? Visit the ' +\n",
              "            '<a target=\"_blank\" href=https://colab.research.google.com/notebooks/data_table.ipynb>data table notebook</a>'\n",
              "            + ' to learn more about interactive tables.';\n",
              "          element.innerHTML = '';\n",
              "          dataTable['output_type'] = 'display_data';\n",
              "          await google.colab.output.renderOutput(dataTable, element);\n",
              "          const docLink = document.createElement('div');\n",
              "          docLink.innerHTML = docLinkHtml;\n",
              "          element.appendChild(docLink);\n",
              "        }\n",
              "      </script>\n",
              "    </div>\n",
              "  </div>\n",
              "  "
            ]
          },
          "metadata": {},
          "execution_count": 79
        }
      ]
    },
    {
      "cell_type": "code",
      "source": [
        "sns.histplot(df['MPG'],facecolor =\"orange\",edgecolor =\"blue\",bins =5,label='cars-MPG')\n",
        "plt.xlabel('MPG')\n",
        "plt.ylabel('Density')\n",
        "plt.legend()\n"
      ],
      "metadata": {
        "colab": {
          "base_uri": "https://localhost:8080/",
          "height": 296
        },
        "id": "da3QyIMbY1yU",
        "outputId": "98712296-6782-44ac-8250-bd69db85f9f6"
      },
      "id": "da3QyIMbY1yU",
      "execution_count": null,
      "outputs": [
        {
          "output_type": "execute_result",
          "data": {
            "text/plain": [
              "<matplotlib.legend.Legend at 0x7f08b1ced4f0>"
            ]
          },
          "metadata": {},
          "execution_count": 80
        },
        {
          "output_type": "display_data",
          "data": {
            "text/plain": [
              "<Figure size 432x288 with 1 Axes>"
            ],
            "image/png": "[encoded data removed]"
          },
          "metadata": {
            "needs_background": "light"
          }
        }
      ]
    },
    {
      "cell_type": "code",
      "source": [
        "sns.distplot(df.MPG, label='Cars-MPG')\n",
        "plt.xlabel('MPG')\n",
        "plt.ylabel('Density')\n",
        "plt.legend()"
      ],
      "metadata": {
        "colab": {
          "base_uri": "https://localhost:8080/",
          "height": 296
        },
        "id": "XvBqtMrVae2O",
        "outputId": "221188c2-926e-4783-9710-b90f93e2fb98"
      },
      "id": "XvBqtMrVae2O",
      "execution_count": null,
      "outputs": [
        {
          "output_type": "execute_result",
          "data": {
            "text/plain": [
              "<matplotlib.legend.Legend at 0x7f08b1c9d2b0>"
            ]
          },
          "metadata": {},
          "execution_count": 81
        },
        {
          "output_type": "display_data",
          "data": {
            "text/plain": [
              "<Figure size 432x288 with 1 Axes>"
            ],
            "image/png": "[encoded data removed]"
          },
          "metadata": {
            "needs_background": "light"
          }
        }
      ]
    },
    {
      "cell_type": "code",
      "source": [
        "sns.boxplot(df['MPG'])\n",
        "plt.show()"
      ],
      "metadata": {
        "colab": {
          "base_uri": "https://localhost:8080/",
          "height": 279
        },
        "id": "gb1-B-zEhQsz",
        "outputId": "dddf3303-f467-4036-86ee-d7e2cabe9a19"
      },
      "id": "gb1-B-zEhQsz",
      "execution_count": null,
      "outputs": [
        {
          "output_type": "display_data",
          "data": {
            "text/plain": [
              "<Figure size 432x288 with 1 Axes>"
            ],
            "image/png": "[encoded data removed]"
          },
          "metadata": {
            "needs_background": "light"
          }
        }
      ]
    },
    {
      "cell_type": "markdown",
      "source": [
        "Q21.b"
      ],
      "metadata": {
        "id": "4DPptybccEel"
      },
      "id": "4DPptybccEel"
    },
    {
      "cell_type": "code",
      "source": [
        "df=pd.read_csv(\"wc-at.csv\")"
      ],
      "metadata": {
        "id": "bIdU4HDDcGI4"
      },
      "id": "bIdU4HDDcGI4",
      "execution_count": null,
      "outputs": []
    },
    {
      "cell_type": "code",
      "source": [
        "df.head(4)"
      ],
      "metadata": {
        "colab": {
          "base_uri": "https://localhost:8080/",
          "height": 175
        },
        "id": "JPpzkXV2dIdr",
        "outputId": "ec6bb3af-2525-4bba-85b9-64124d402c00"
      },
      "id": "JPpzkXV2dIdr",
      "execution_count": null,
      "outputs": [
        {
          "output_type": "execute_result",
          "data": {
            "text/plain": [
              "   Waist     AT\n",
              "0  74.75  25.72\n",
              "1  72.60  25.89\n",
              "2  81.80  42.60\n",
              "3  83.95  42.80"
            ],
            "text/html": [
              "\n",
              "  <div id=\"df-3a58c6f0-6c91-4d49-84d9-e23d026dda24\">\n",
              "    <div class=\"colab-df-container\">\n",
              "      <div>\n",
              "<style scoped>\n",
              "    .dataframe tbody tr th:only-of-type {\n",
              "        vertical-align: middle;\n",
              "    }\n",
              "\n",
              "    .dataframe tbody tr th {\n",
              "        vertical-align: top;\n",
              "    }\n",
              "\n",
              "    .dataframe thead th {\n",
              "        text-align: right;\n",
              "    }\n",
              "</style>\n",
              "<table border=\"1\" class=\"dataframe\">\n",
              "  <thead>\n",
              "    <tr style=\"text-align: right;\">\n",
              "      <th></th>\n",
              "      <th>Waist</th>\n",
              "      <th>AT</th>\n",
              "    </tr>\n",
              "  </thead>\n",
              "  <tbody>\n",
              "    <tr>\n",
              "      <th>0</th>\n",
              "      <td>74.75</td>\n",
              "      <td>25.72</td>\n",
              "    </tr>\n",
              "    <tr>\n",
              "      <th>1</th>\n",
              "      <td>72.60</td>\n",
              "      <td>25.89</td>\n",
              "    </tr>\n",
              "    <tr>\n",
              "      <th>2</th>\n",
              "      <td>81.80</td>\n",
              "      <td>42.60</td>\n",
              "    </tr>\n",
              "    <tr>\n",
              "      <th>3</th>\n",
              "      <td>83.95</td>\n",
              "      <td>42.80</td>\n",
              "    </tr>\n",
              "  </tbody>\n",
              "</table>\n",
              "</div>\n",
              "      <button class=\"colab-df-convert\" onclick=\"convertToInteractive('df-3a58c6f0-6c91-4d49-84d9-e23d026dda24')\"\n",
              "              title=\"Convert this dataframe to an interactive table.\"\n",
              "              style=\"display:none;\">\n",
              "        \n",
              "  <svg xmlns=\"http://www.w3.org/2000/svg\" height=\"24px\"viewBox=\"0 0 24 24\"\n",
              "       width=\"24px\">\n",
              "    <path d=\"M0 0h24v24H0V0z\" fill=\"none\"/>\n",
              "    <path d=\"M18.56 5.44l.94 2.06.94-2.06 2.06-.94-2.06-.94-.94-2.06-.94 2.06-2.06.94zm-11 1L8.5 8.5l.94-2.06 2.06-.94-2.06-.94L8.5 2.5l-.94 2.06-2.06.94zm10 10l.94 2.06.94-2.06 2.06-.94-2.06-.94-.94-2.06-.94 2.06-2.06.94z\"/><path d=\"M17.41 7.96l-1.37-1.37c-.4-.4-.92-.59-1.43-.59-.52 0-1.04.2-1.43.59L10.3 9.45l-7.72 7.72c-.78.78-.78 2.05 0 2.83L4 21.41c.39.39.9.59 1.41.59.51 0 1.02-.2 1.41-.59l7.78-7.78 2.81-2.81c.8-.78.8-2.07 0-2.86zM5.41 20L4 18.59l7.72-7.72 1.47 1.35L5.41 20z\"/>\n",
              "  </svg>\n",
              "      </button>\n",
              "      \n",
              "  <style>\n",
              "    .colab-df-container {\n",
              "      display:flex;\n",
              "      flex-wrap:wrap;\n",
              "      gap: 12px;\n",
              "    }\n",
              "\n",
              "    .colab-df-convert {\n",
              "      background-color: #E8F0FE;\n",
              "      border: none;\n",
              "      border-radius: 50%;\n",
              "      cursor: pointer;\n",
              "      display: none;\n",
              "      fill: #1967D2;\n",
              "      height: 32px;\n",
              "      padding: 0 0 0 0;\n",
              "      width: 32px;\n",
              "    }\n",
              "\n",
              "    .colab-df-convert:hover {\n",
              "      background-color: #E2EBFA;\n",
              "      box-shadow: 0px 1px 2px rgba(60, 64, 67, 0.3), 0px 1px 3px 1px rgba(60, 64, 67, 0.15);\n",
              "      fill: #174EA6;\n",
              "    }\n",
              "\n",
              "    [theme=dark] .colab-df-convert {\n",
              "      background-color: #3B4455;\n",
              "      fill: #D2E3FC;\n",
              "    }\n",
              "\n",
              "    [theme=dark] .colab-df-convert:hover {\n",
              "      background-color: #434B5C;\n",
              "      box-shadow: 0px 1px 3px 1px rgba(0, 0, 0, 0.15);\n",
              "      filter: drop-shadow(0px 1px 2px rgba(0, 0, 0, 0.3));\n",
              "      fill: #FFFFFF;\n",
              "    }\n",
              "  </style>\n",
              "\n",
              "      <script>\n",
              "        const buttonEl =\n",
              "          document.querySelector('#df-3a58c6f0-6c91-4d49-84d9-e23d026dda24 button.colab-df-convert');\n",
              "        buttonEl.style.display =\n",
              "          google.colab.kernel.accessAllowed ? 'block' : 'none';\n",
              "\n",
              "        async function convertToInteractive(key) {\n",
              "          const element = document.querySelector('#df-3a58c6f0-6c91-4d49-84d9-e23d026dda24');\n",
              "          const dataTable =\n",
              "            await google.colab.kernel.invokeFunction('convertToInteractive',\n",
              "                                                     [key], {});\n",
              "          if (!dataTable) return;\n",
              "\n",
              "          const docLinkHtml = 'Like what you see? Visit the ' +\n",
              "            '<a target=\"_blank\" href=https://colab.research.google.com/notebooks/data_table.ipynb>data table notebook</a>'\n",
              "            + ' to learn more about interactive tables.';\n",
              "          element.innerHTML = '';\n",
              "          dataTable['output_type'] = 'display_data';\n",
              "          await google.colab.output.renderOutput(dataTable, element);\n",
              "          const docLink = document.createElement('div');\n",
              "          docLink.innerHTML = docLinkHtml;\n",
              "          element.appendChild(docLink);\n",
              "        }\n",
              "      </script>\n",
              "    </div>\n",
              "  </div>\n",
              "  "
            ]
          },
          "metadata": {},
          "execution_count": 65
        }
      ]
    },
    {
      "cell_type": "code",
      "source": [
        "df.tail(4)"
      ],
      "metadata": {
        "colab": {
          "base_uri": "https://localhost:8080/",
          "height": 175
        },
        "id": "ONk-wBWIdKFK",
        "outputId": "da016ac2-335f-4200-d275-8f35ccf5d7d5"
      },
      "id": "ONk-wBWIdKFK",
      "execution_count": null,
      "outputs": [
        {
          "output_type": "execute_result",
          "data": {
            "text/plain": [
              "     Waist     AT\n",
              "105   93.3   62.2\n",
              "106  101.8  133.0\n",
              "107  107.9  208.0\n",
              "108  108.5  208.0"
            ],
            "text/html": [
              "\n",
              "  <div id=\"df-13236885-c8df-4ebd-b463-13d7fc4361e8\">\n",
              "    <div class=\"colab-df-container\">\n",
              "      <div>\n",
              "<style scoped>\n",
              "    .dataframe tbody tr th:only-of-type {\n",
              "        vertical-align: middle;\n",
              "    }\n",
              "\n",
              "    .dataframe tbody tr th {\n",
              "        vertical-align: top;\n",
              "    }\n",
              "\n",
              "    .dataframe thead th {\n",
              "        text-align: right;\n",
              "    }\n",
              "</style>\n",
              "<table border=\"1\" class=\"dataframe\">\n",
              "  <thead>\n",
              "    <tr style=\"text-align: right;\">\n",
              "      <th></th>\n",
              "      <th>Waist</th>\n",
              "      <th>AT</th>\n",
              "    </tr>\n",
              "  </thead>\n",
              "  <tbody>\n",
              "    <tr>\n",
              "      <th>105</th>\n",
              "      <td>93.3</td>\n",
              "      <td>62.2</td>\n",
              "    </tr>\n",
              "    <tr>\n",
              "      <th>106</th>\n",
              "      <td>101.8</td>\n",
              "      <td>133.0</td>\n",
              "    </tr>\n",
              "    <tr>\n",
              "      <th>107</th>\n",
              "      <td>107.9</td>\n",
              "      <td>208.0</td>\n",
              "    </tr>\n",
              "    <tr>\n",
              "      <th>108</th>\n",
              "      <td>108.5</td>\n",
              "      <td>208.0</td>\n",
              "    </tr>\n",
              "  </tbody>\n",
              "</table>\n",
              "</div>\n",
              "      <button class=\"colab-df-convert\" onclick=\"convertToInteractive('df-13236885-c8df-4ebd-b463-13d7fc4361e8')\"\n",
              "              title=\"Convert this dataframe to an interactive table.\"\n",
              "              style=\"display:none;\">\n",
              "        \n",
              "  <svg xmlns=\"http://www.w3.org/2000/svg\" height=\"24px\"viewBox=\"0 0 24 24\"\n",
              "       width=\"24px\">\n",
              "    <path d=\"M0 0h24v24H0V0z\" fill=\"none\"/>\n",
              "    <path d=\"M18.56 5.44l.94 2.06.94-2.06 2.06-.94-2.06-.94-.94-2.06-.94 2.06-2.06.94zm-11 1L8.5 8.5l.94-2.06 2.06-.94-2.06-.94L8.5 2.5l-.94 2.06-2.06.94zm10 10l.94 2.06.94-2.06 2.06-.94-2.06-.94-.94-2.06-.94 2.06-2.06.94z\"/><path d=\"M17.41 7.96l-1.37-1.37c-.4-.4-.92-.59-1.43-.59-.52 0-1.04.2-1.43.59L10.3 9.45l-7.72 7.72c-.78.78-.78 2.05 0 2.83L4 21.41c.39.39.9.59 1.41.59.51 0 1.02-.2 1.41-.59l7.78-7.78 2.81-2.81c.8-.78.8-2.07 0-2.86zM5.41 20L4 18.59l7.72-7.72 1.47 1.35L5.41 20z\"/>\n",
              "  </svg>\n",
              "      </button>\n",
              "      \n",
              "  <style>\n",
              "    .colab-df-container {\n",
              "      display:flex;\n",
              "      flex-wrap:wrap;\n",
              "      gap: 12px;\n",
              "    }\n",
              "\n",
              "    .colab-df-convert {\n",
              "      background-color: #E8F0FE;\n",
              "      border: none;\n",
              "      border-radius: 50%;\n",
              "      cursor: pointer;\n",
              "      display: none;\n",
              "      fill: #1967D2;\n",
              "      height: 32px;\n",
              "      padding: 0 0 0 0;\n",
              "      width: 32px;\n",
              "    }\n",
              "\n",
              "    .colab-df-convert:hover {\n",
              "      background-color: #E2EBFA;\n",
              "      box-shadow: 0px 1px 2px rgba(60, 64, 67, 0.3), 0px 1px 3px 1px rgba(60, 64, 67, 0.15);\n",
              "      fill: #174EA6;\n",
              "    }\n",
              "\n",
              "    [theme=dark] .colab-df-convert {\n",
              "      background-color: #3B4455;\n",
              "      fill: #D2E3FC;\n",
              "    }\n",
              "\n",
              "    [theme=dark] .colab-df-convert:hover {\n",
              "      background-color: #434B5C;\n",
              "      box-shadow: 0px 1px 3px 1px rgba(0, 0, 0, 0.15);\n",
              "      filter: drop-shadow(0px 1px 2px rgba(0, 0, 0, 0.3));\n",
              "      fill: #FFFFFF;\n",
              "    }\n",
              "  </style>\n",
              "\n",
              "      <script>\n",
              "        const buttonEl =\n",
              "          document.querySelector('#df-13236885-c8df-4ebd-b463-13d7fc4361e8 button.colab-df-convert');\n",
              "        buttonEl.style.display =\n",
              "          google.colab.kernel.accessAllowed ? 'block' : 'none';\n",
              "\n",
              "        async function convertToInteractive(key) {\n",
              "          const element = document.querySelector('#df-13236885-c8df-4ebd-b463-13d7fc4361e8');\n",
              "          const dataTable =\n",
              "            await google.colab.kernel.invokeFunction('convertToInteractive',\n",
              "                                                     [key], {});\n",
              "          if (!dataTable) return;\n",
              "\n",
              "          const docLinkHtml = 'Like what you see? Visit the ' +\n",
              "            '<a target=\"_blank\" href=https://colab.research.google.com/notebooks/data_table.ipynb>data table notebook</a>'\n",
              "            + ' to learn more about interactive tables.';\n",
              "          element.innerHTML = '';\n",
              "          dataTable['output_type'] = 'display_data';\n",
              "          await google.colab.output.renderOutput(dataTable, element);\n",
              "          const docLink = document.createElement('div');\n",
              "          docLink.innerHTML = docLinkHtml;\n",
              "          element.appendChild(docLink);\n",
              "        }\n",
              "      </script>\n",
              "    </div>\n",
              "  </div>\n",
              "  "
            ]
          },
          "metadata": {},
          "execution_count": 64
        }
      ]
    },
    {
      "cell_type": "code",
      "source": [
        "df.shape"
      ],
      "metadata": {
        "colab": {
          "base_uri": "https://localhost:8080/"
        },
        "id": "3srmNXHHdMDU",
        "outputId": "41734b70-fb8b-46f2-ad67-f99bce8475f9"
      },
      "id": "3srmNXHHdMDU",
      "execution_count": null,
      "outputs": [
        {
          "output_type": "execute_result",
          "data": {
            "text/plain": [
              "(109, 2)"
            ]
          },
          "metadata": {},
          "execution_count": 66
        }
      ]
    },
    {
      "cell_type": "code",
      "source": [
        "df.describe()"
      ],
      "metadata": {
        "colab": {
          "base_uri": "https://localhost:8080/",
          "height": 300
        },
        "id": "mZ5NIlWsdT1d",
        "outputId": "18889fbe-8a0c-48a7-8ce1-e4c969504454"
      },
      "id": "mZ5NIlWsdT1d",
      "execution_count": null,
      "outputs": [
        {
          "output_type": "execute_result",
          "data": {
            "text/plain": [
              "            Waist          AT\n",
              "count  109.000000  109.000000\n",
              "mean    91.901835  101.894037\n",
              "std     13.559116   57.294763\n",
              "min     63.500000   11.440000\n",
              "25%     80.000000   50.880000\n",
              "50%     90.800000   96.540000\n",
              "75%    104.000000  137.000000\n",
              "max    121.000000  253.000000"
            ],
            "text/html": [
              "\n",
              "  <div id=\"df-c06d023e-2cea-4a2b-acf3-ceee34e67fec\">\n",
              "    <div class=\"colab-df-container\">\n",
              "      <div>\n",
              "<style scoped>\n",
              "    .dataframe tbody tr th:only-of-type {\n",
              "        vertical-align: middle;\n",
              "    }\n",
              "\n",
              "    .dataframe tbody tr th {\n",
              "        vertical-align: top;\n",
              "    }\n",
              "\n",
              "    .dataframe thead th {\n",
              "        text-align: right;\n",
              "    }\n",
              "</style>\n",
              "<table border=\"1\" class=\"dataframe\">\n",
              "  <thead>\n",
              "    <tr style=\"text-align: right;\">\n",
              "      <th></th>\n",
              "      <th>Waist</th>\n",
              "      <th>AT</th>\n",
              "    </tr>\n",
              "  </thead>\n",
              "  <tbody>\n",
              "    <tr>\n",
              "      <th>count</th>\n",
              "      <td>109.000000</td>\n",
              "      <td>109.000000</td>\n",
              "    </tr>\n",
              "    <tr>\n",
              "      <th>mean</th>\n",
              "      <td>91.901835</td>\n",
              "      <td>101.894037</td>\n",
              "    </tr>\n",
              "    <tr>\n",
              "      <th>std</th>\n",
              "      <td>13.559116</td>\n",
              "      <td>57.294763</td>\n",
              "    </tr>\n",
              "    <tr>\n",
              "      <th>min</th>\n",
              "      <td>63.500000</td>\n",
              "      <td>11.440000</td>\n",
              "    </tr>\n",
              "    <tr>\n",
              "      <th>25%</th>\n",
              "      <td>80.000000</td>\n",
              "      <td>50.880000</td>\n",
              "    </tr>\n",
              "    <tr>\n",
              "      <th>50%</th>\n",
              "      <td>90.800000</td>\n",
              "      <td>96.540000</td>\n",
              "    </tr>\n",
              "    <tr>\n",
              "      <th>75%</th>\n",
              "      <td>104.000000</td>\n",
              "      <td>137.000000</td>\n",
              "    </tr>\n",
              "    <tr>\n",
              "      <th>max</th>\n",
              "      <td>121.000000</td>\n",
              "      <td>253.000000</td>\n",
              "    </tr>\n",
              "  </tbody>\n",
              "</table>\n",
              "</div>\n",
              "      <button class=\"colab-df-convert\" onclick=\"convertToInteractive('df-c06d023e-2cea-4a2b-acf3-ceee34e67fec')\"\n",
              "              title=\"Convert this dataframe to an interactive table.\"\n",
              "              style=\"display:none;\">\n",
              "        \n",
              "  <svg xmlns=\"http://www.w3.org/2000/svg\" height=\"24px\"viewBox=\"0 0 24 24\"\n",
              "       width=\"24px\">\n",
              "    <path d=\"M0 0h24v24H0V0z\" fill=\"none\"/>\n",
              "    <path d=\"M18.56 5.44l.94 2.06.94-2.06 2.06-.94-2.06-.94-.94-2.06-.94 2.06-2.06.94zm-11 1L8.5 8.5l.94-2.06 2.06-.94-2.06-.94L8.5 2.5l-.94 2.06-2.06.94zm10 10l.94 2.06.94-2.06 2.06-.94-2.06-.94-.94-2.06-.94 2.06-2.06.94z\"/><path d=\"M17.41 7.96l-1.37-1.37c-.4-.4-.92-.59-1.43-.59-.52 0-1.04.2-1.43.59L10.3 9.45l-7.72 7.72c-.78.78-.78 2.05 0 2.83L4 21.41c.39.39.9.59 1.41.59.51 0 1.02-.2 1.41-.59l7.78-7.78 2.81-2.81c.8-.78.8-2.07 0-2.86zM5.41 20L4 18.59l7.72-7.72 1.47 1.35L5.41 20z\"/>\n",
              "  </svg>\n",
              "      </button>\n",
              "      \n",
              "  <style>\n",
              "    .colab-df-container {\n",
              "      display:flex;\n",
              "      flex-wrap:wrap;\n",
              "      gap: 12px;\n",
              "    }\n",
              "\n",
              "    .colab-df-convert {\n",
              "      background-color: #E8F0FE;\n",
              "      border: none;\n",
              "      border-radius: 50%;\n",
              "      cursor: pointer;\n",
              "      display: none;\n",
              "      fill: #1967D2;\n",
              "      height: 32px;\n",
              "      padding: 0 0 0 0;\n",
              "      width: 32px;\n",
              "    }\n",
              "\n",
              "    .colab-df-convert:hover {\n",
              "      background-color: #E2EBFA;\n",
              "      box-shadow: 0px 1px 2px rgba(60, 64, 67, 0.3), 0px 1px 3px 1px rgba(60, 64, 67, 0.15);\n",
              "      fill: #174EA6;\n",
              "    }\n",
              "\n",
              "    [theme=dark] .colab-df-convert {\n",
              "      background-color: #3B4455;\n",
              "      fill: #D2E3FC;\n",
              "    }\n",
              "\n",
              "    [theme=dark] .colab-df-convert:hover {\n",
              "      background-color: #434B5C;\n",
              "      box-shadow: 0px 1px 3px 1px rgba(0, 0, 0, 0.15);\n",
              "      filter: drop-shadow(0px 1px 2px rgba(0, 0, 0, 0.3));\n",
              "      fill: #FFFFFF;\n",
              "    }\n",
              "  </style>\n",
              "\n",
              "      <script>\n",
              "        const buttonEl =\n",
              "          document.querySelector('#df-c06d023e-2cea-4a2b-acf3-ceee34e67fec button.colab-df-convert');\n",
              "        buttonEl.style.display =\n",
              "          google.colab.kernel.accessAllowed ? 'block' : 'none';\n",
              "\n",
              "        async function convertToInteractive(key) {\n",
              "          const element = document.querySelector('#df-c06d023e-2cea-4a2b-acf3-ceee34e67fec');\n",
              "          const dataTable =\n",
              "            await google.colab.kernel.invokeFunction('convertToInteractive',\n",
              "                                                     [key], {});\n",
              "          if (!dataTable) return;\n",
              "\n",
              "          const docLinkHtml = 'Like what you see? Visit the ' +\n",
              "            '<a target=\"_blank\" href=https://colab.research.google.com/notebooks/data_table.ipynb>data table notebook</a>'\n",
              "            + ' to learn more about interactive tables.';\n",
              "          element.innerHTML = '';\n",
              "          dataTable['output_type'] = 'display_data';\n",
              "          await google.colab.output.renderOutput(dataTable, element);\n",
              "          const docLink = document.createElement('div');\n",
              "          docLink.innerHTML = docLinkHtml;\n",
              "          element.appendChild(docLink);\n",
              "        }\n",
              "      </script>\n",
              "    </div>\n",
              "  </div>\n",
              "  "
            ]
          },
          "metadata": {},
          "execution_count": 67
        }
      ]
    },
    {
      "cell_type": "code",
      "source": [
        "sns.distplot(df['Waist'])\n",
        "plt.show()"
      ],
      "metadata": {
        "colab": {
          "base_uri": "https://localhost:8080/",
          "height": 282
        },
        "id": "Eqo0cM3YdVyP",
        "outputId": "9b01cc28-f897-4a8e-f592-805c1c4cbf2f"
      },
      "id": "Eqo0cM3YdVyP",
      "execution_count": null,
      "outputs": [
        {
          "output_type": "display_data",
          "data": {
            "text/plain": [
              "<Figure size 432x288 with 1 Axes>"
            ],
            "image/png": "[encoded data removed]"
          },
          "metadata": {
            "needs_background": "light"
          }
        }
      ]
    },
    {
      "cell_type": "code",
      "source": [
        "sns.distplot(df['AT'])\n",
        "plt.show()"
      ],
      "metadata": {
        "colab": {
          "base_uri": "https://localhost:8080/",
          "height": 279
        },
        "id": "15cGcQa4dfS5",
        "outputId": "49613960-17c2-4dee-b0b4-60a59e9d21bb"
      },
      "id": "15cGcQa4dfS5",
      "execution_count": null,
      "outputs": [
        {
          "output_type": "display_data",
          "data": {
            "text/plain": [
              "<Figure size 432x288 with 1 Axes>"
            ],
            "image/png": "[encoded data removed]"
          },
          "metadata": {
            "needs_background": "light"
          }
        }
      ]
    },
    {
      "cell_type": "code",
      "source": [
        "sns.boxplot(df['AT'])\n",
        "plt.show()\n"
      ],
      "metadata": {
        "colab": {
          "base_uri": "https://localhost:8080/",
          "height": 279
        },
        "id": "v_Rtysg3dpxv",
        "outputId": "e022346b-d665-43c6-a0ee-4ef497fad325"
      },
      "id": "v_Rtysg3dpxv",
      "execution_count": null,
      "outputs": [
        {
          "output_type": "display_data",
          "data": {
            "text/plain": [
              "<Figure size 432x288 with 1 Axes>"
            ],
            "image/png": "[encoded data removed]"
          },
          "metadata": {
            "needs_background": "light"
          }
        }
      ]
    },
    {
      "cell_type": "code",
      "source": [],
      "metadata": {
        "id": "szhrLKSLd6_m"
      },
      "id": "szhrLKSLd6_m",
      "execution_count": null,
      "outputs": []
    },
    {
      "cell_type": "markdown",
      "source": [
        "# Q22"
      ],
      "metadata": {
        "id": "2IWq4XaRjbxX"
      },
      "id": "2IWq4XaRjbxX"
    },
    {
      "cell_type": "code",
      "source": [
        "from scipy import stats\n",
        "from scipy.stats import norm"
      ],
      "metadata": {
        "id": "0r5g0zVEjc4t"
      },
      "id": "0r5g0zVEjc4t",
      "execution_count": null,
      "outputs": []
    },
    {
      "cell_type": "code",
      "source": [
        "# 90%CI\n",
        "stats.norm.ppf(0.90)"
      ],
      "metadata": {
        "colab": {
          "base_uri": "https://localhost:8080/"
        },
        "id": "FbUC4zG1jlhs",
        "outputId": "1f79d130-58eb-4924-c96f-40e8ad2fc2ec"
      },
      "id": "FbUC4zG1jlhs",
      "execution_count": null,
      "outputs": [
        {
          "output_type": "execute_result",
          "data": {
            "text/plain": [
              "1.2815515655446004"
            ]
          },
          "metadata": {},
          "execution_count": 84
        }
      ]
    },
    {
      "cell_type": "code",
      "source": [
        "#94% CI\n",
        "stats.norm.ppf(0.94)"
      ],
      "metadata": {
        "colab": {
          "base_uri": "https://localhost:8080/"
        },
        "id": "c-3r8sTBjsKV",
        "outputId": "2093f64f-e2f3-4385-e0fe-f0e26f6f01ee"
      },
      "id": "c-3r8sTBjsKV",
      "execution_count": null,
      "outputs": [
        {
          "output_type": "execute_result",
          "data": {
            "text/plain": [
              "1.5547735945968535"
            ]
          },
          "metadata": {},
          "execution_count": 85
        }
      ]
    },
    {
      "cell_type": "code",
      "source": [
        "#60%  CI\n",
        "stats.norm.ppf(0.60)"
      ],
      "metadata": {
        "colab": {
          "base_uri": "https://localhost:8080/"
        },
        "id": "nj0cDbyrjyiR",
        "outputId": "e31231b4-6e28-43bc-a2c0-717f55e810a5"
      },
      "id": "nj0cDbyrjyiR",
      "execution_count": null,
      "outputs": [
        {
          "output_type": "execute_result",
          "data": {
            "text/plain": [
              "0.2533471031357997"
            ]
          },
          "metadata": {},
          "execution_count": 86
        }
      ]
    },
    {
      "cell_type": "markdown",
      "source": [
        "#Q23"
      ],
      "metadata": {
        "id": "FFjIEB4xkrct"
      },
      "id": "FFjIEB4xkrct"
    },
    {
      "cell_type": "markdown",
      "source": [],
      "metadata": {
        "id": "6AuHvEvWkpyr"
      },
      "id": "6AuHvEvWkpyr"
    },
    {
      "cell_type": "code",
      "source": [
        "stats.t.ppf(0.95,24)   #(point,n-1)"
      ],
      "metadata": {
        "colab": {
          "base_uri": "https://localhost:8080/"
        },
        "id": "cp4gPdRrj1yx",
        "outputId": "e5711ccb-9d08-4007-be96-d6c91d279f29"
      },
      "id": "cp4gPdRrj1yx",
      "execution_count": null,
      "outputs": [
        {
          "output_type": "execute_result",
          "data": {
            "text/plain": [
              "1.7108820799094275"
            ]
          },
          "metadata": {},
          "execution_count": 90
        }
      ]
    },
    {
      "cell_type": "code",
      "source": [
        "stats.t.ppf(0.96,24) "
      ],
      "metadata": {
        "colab": {
          "base_uri": "https://localhost:8080/"
        },
        "id": "EafLFKfckOs-",
        "outputId": "323c08d6-b54d-4aae-a113-34a5c0d8b3ec"
      },
      "id": "EafLFKfckOs-",
      "execution_count": null,
      "outputs": [
        {
          "output_type": "execute_result",
          "data": {
            "text/plain": [
              "1.8280511719596342"
            ]
          },
          "metadata": {},
          "execution_count": 91
        }
      ]
    },
    {
      "cell_type": "code",
      "source": [
        "stats.t.ppf(0.99,24) "
      ],
      "metadata": {
        "colab": {
          "base_uri": "https://localhost:8080/"
        },
        "id": "lTb1LCWgkiC9",
        "outputId": "1a6367cb-e63f-4e55-fbd1-36815320ec42"
      },
      "id": "lTb1LCWgkiC9",
      "execution_count": null,
      "outputs": [
        {
          "output_type": "execute_result",
          "data": {
            "text/plain": [
              "2.4921594731575762"
            ]
          },
          "metadata": {},
          "execution_count": 92
        }
      ]
    },
    {
      "cell_type": "code",
      "source": [],
      "metadata": {
        "id": "-VbF20OrnvP8"
      },
      "id": "-VbF20OrnvP8",
      "execution_count": null,
      "outputs": []
    },
    {
      "cell_type": "markdown",
      "source": [
        "#Q24"
      ],
      "metadata": {
        "id": "h6IJ2ZIenwV7"
      },
      "id": "h6IJ2ZIenwV7"
    },
    {
      "cell_type": "code",
      "source": [
        "from scipy import stats\n",
        "from scipy.stats import norm"
      ],
      "metadata": {
        "id": "ztd_AwYOmmhA"
      },
      "id": "ztd_AwYOmmhA",
      "execution_count": null,
      "outputs": []
    },
    {
      "cell_type": "code",
      "source": [
        "from math import sqrt\n",
        "ts=(260-270)/(90/sqrt(18))\n",
        "ts"
      ],
      "metadata": {
        "colab": {
          "base_uri": "https://localhost:8080/"
        },
        "id": "PYyGR7KUkjna",
        "outputId": "652105a0-00e4-4f79-bbc0-0343d4c9a4a1"
      },
      "id": "PYyGR7KUkjna",
      "execution_count": null,
      "outputs": [
        {
          "output_type": "execute_result",
          "data": {
            "text/plain": [
              "-0.4714045207910317"
            ]
          },
          "metadata": {},
          "execution_count": 99
        }
      ]
    },
    {
      "cell_type": "code",
      "source": [
        "# p_value=1-stats.t.cdf(abs(t_scores),df=n-1)... Using cdf function\n",
        "p_value=1-stats.t.cdf(abs(-0.4714),df=17)\n",
        "p_value"
      ],
      "metadata": {
        "colab": {
          "base_uri": "https://localhost:8080/"
        },
        "id": "XfxHWRa1mnDS",
        "outputId": "b58aecb0-0342-4d1b-dcf9-267a0a54180f"
      },
      "id": "XfxHWRa1mnDS",
      "execution_count": null,
      "outputs": [
        {
          "output_type": "execute_result",
          "data": {
            "text/plain": [
              "0.32167411684460556"
            ]
          },
          "metadata": {},
          "execution_count": 100
        }
      ]
    },
    {
      "cell_type": "code",
      "source": [],
      "metadata": {
        "id": "EnwY1pyenYZN"
      },
      "id": "EnwY1pyenYZN",
      "execution_count": null,
      "outputs": []
    }
  ],
  "metadata": {
    "kernelspec": {
      "display_name": "Python 3",
      "language": "python",
      "name": "python3"
    },
    "language_info": {
      "codemirror_mode": {
        "name": "ipython",
        "version": 3
      },
      "file_extension": ".py",
      "mimetype": "text/x-python",
      "name": "python",
      "nbconvert_exporter": "python",
      "pygments_lexer": "ipython3",
      "version": "3.8.8"
    },
    "colab": {
      "provenance": []
    }
  },
  "nbformat": 4,
  "nbformat_minor": 5
}